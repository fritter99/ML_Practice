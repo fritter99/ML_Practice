{
  "nbformat": 4,
  "nbformat_minor": 0,
  "metadata": {
    "colab": {
      "name": "强化学习解决背包问题.ipynb",
      "provenance": [],
      "collapsed_sections": []
    },
    "kernelspec": {
      "name": "python3",
      "display_name": "Python 3"
    }
  },
  "cells": [
    {
      "cell_type": "code",
      "metadata": {
        "id": "OxMhT56Likb_",
        "colab_type": "code",
        "colab": {}
      },
      "source": [
        "import pandas as pd\n",
        "import numpy as np\n",
        "import matplotlib.pyplot as plt\n",
        "from time import time\n",
        "import plotting\n",
        "import itertools"
      ],
      "execution_count": 54,
      "outputs": []
    },
    {
      "cell_type": "markdown",
      "metadata": {
        "id": "BLkmQ8ZJjkgw",
        "colab_type": "text"
      },
      "source": [
        "## 初始化背包"
      ]
    },
    {
      "cell_type": "code",
      "metadata": {
        "id": "OMApDMyvjiC9",
        "colab_type": "code",
        "colab": {}
      },
      "source": [
        "item = pd.DataFrame(data=[[1, 1], [6, 2], [18, 5], [22, 6], [28, 7]], columns=['Value', 'Weight'])\n",
        "\n",
        "actions = list(range(len(item))) # 动作, 每一个物体是一个动作\n",
        "limit_W = 11 # 背包重量的限制\n",
        "gamma = 0.9"
      ],
      "execution_count": 2,
      "outputs": []
    },
    {
      "cell_type": "code",
      "metadata": {
        "id": "iJioWG7Xktps",
        "colab_type": "code",
        "colab": {
          "base_uri": "https://localhost:8080/",
          "height": 204
        },
        "outputId": "03a9a175-2731-4867-94ff-b8cfa245ef34"
      },
      "source": [
        "item"
      ],
      "execution_count": 3,
      "outputs": [
        {
          "output_type": "execute_result",
          "data": {
            "text/html": [
              "<div>\n",
              "<style scoped>\n",
              "    .dataframe tbody tr th:only-of-type {\n",
              "        vertical-align: middle;\n",
              "    }\n",
              "\n",
              "    .dataframe tbody tr th {\n",
              "        vertical-align: top;\n",
              "    }\n",
              "\n",
              "    .dataframe thead th {\n",
              "        text-align: right;\n",
              "    }\n",
              "</style>\n",
              "<table border=\"1\" class=\"dataframe\">\n",
              "  <thead>\n",
              "    <tr style=\"text-align: right;\">\n",
              "      <th></th>\n",
              "      <th>Value</th>\n",
              "      <th>Weight</th>\n",
              "    </tr>\n",
              "  </thead>\n",
              "  <tbody>\n",
              "    <tr>\n",
              "      <th>0</th>\n",
              "      <td>1</td>\n",
              "      <td>1</td>\n",
              "    </tr>\n",
              "    <tr>\n",
              "      <th>1</th>\n",
              "      <td>6</td>\n",
              "      <td>2</td>\n",
              "    </tr>\n",
              "    <tr>\n",
              "      <th>2</th>\n",
              "      <td>18</td>\n",
              "      <td>5</td>\n",
              "    </tr>\n",
              "    <tr>\n",
              "      <th>3</th>\n",
              "      <td>22</td>\n",
              "      <td>6</td>\n",
              "    </tr>\n",
              "    <tr>\n",
              "      <th>4</th>\n",
              "      <td>28</td>\n",
              "      <td>7</td>\n",
              "    </tr>\n",
              "  </tbody>\n",
              "</table>\n",
              "</div>"
            ],
            "text/plain": [
              "   Value  Weight\n",
              "0      1       1\n",
              "1      6       2\n",
              "2     18       5\n",
              "3     22       6\n",
              "4     28       7"
            ]
          },
          "metadata": {
            "tags": []
          },
          "execution_count": 3
        }
      ]
    },
    {
      "cell_type": "markdown",
      "metadata": {
        "id": "dexh0kI6lHAO",
        "colab_type": "text"
      },
      "source": [
        "## Q-Learning部分"
      ]
    },
    {
      "cell_type": "markdown",
      "metadata": {
        "id": "fkww0pygl_sl",
        "colab_type": "text"
      },
      "source": [
        "### 策略的定义\n",
        "\n",
        "- $\\mu$, 定义$\\epsilon$-greedy的策略;\n",
        "- $\\pi$, 定义greedy的策略;"
      ]
    },
    {
      "cell_type": "code",
      "metadata": {
        "id": "12SF-1eK1Lvy",
        "colab_type": "code",
        "colab": {}
      },
      "source": [
        "def mu_policy(Q, epsilon, nA, observation, actions):\n",
        "    \"\"\"\n",
        "    这是一个epsilon-greedy的策略, 返回每一个动作执行的概率, nA为动作的个数\n",
        "    其中: \n",
        "    - Q是q table, 为dataframe的格式;\n",
        "    - nA是所有动作的个数\n",
        "    \"\"\"\n",
        "    actionsList = list(set(actions).difference(set(observation))) # 可以挑选的动作\n",
        "    # 看到这个state之后, 采取不同action获得的累计奖励\n",
        "    action_values = Q.loc[str(observation), :]\n",
        "    # 使用获得奖励最大的那个动作\n",
        "    greedy_action = action_values.idxmax()\n",
        "    # 是的每个动作都有出现的可能性\n",
        "    probabilities = np.zeros(nA)\n",
        "    for i in actionsList:\n",
        "        probabilities[i] = 1/len(actionsList) * epsilon\n",
        "    probabilities[greedy_action] = probabilities[greedy_action] + (1 - epsilon)\n",
        "    return probabilities"
      ],
      "execution_count": 150,
      "outputs": []
    },
    {
      "cell_type": "code",
      "metadata": {
        "id": "BooU7Vj-2SWj",
        "colab_type": "code",
        "colab": {}
      },
      "source": [
        "def pi_policy(Q, observation):\n",
        "    \"\"\"\n",
        "    这是greedy policy, 每次选择最优的动作.\n",
        "    其中: \n",
        "    - Q是q table, 为dataframe的格式;\n",
        "    \"\"\"\n",
        "    action_values = Q.loc[str(observation), :]\n",
        "    best_action = action_values.idxmax() # 选择最优的动作\n",
        "    return np.eye(len(action_values))[best_action] # 返回的是两个动作出现的概率\n"
      ],
      "execution_count": 129,
      "outputs": []
    },
    {
      "cell_type": "markdown",
      "metadata": {
        "id": "OZk3ODHm4gDt",
        "colab_type": "text"
      },
      "source": [
        "### 模型环境\n",
        "\n",
        "- 返回reward, 是否结束, next_state"
      ]
    },
    {
      "cell_type": "code",
      "metadata": {
        "id": "MhwGVJ3i4k12",
        "colab_type": "code",
        "colab": {}
      },
      "source": [
        "def envReward(action, knapsack):\n",
        "    \"\"\"返回下一步的state, reward和done\n",
        "    \"\"\"\n",
        "    limit_W = 11\n",
        "    knapsack_ = knapsack + [action] # 得到新的背包里的东西, 现在是[2,3], 向里面增加物品[1], 得到新的状态[1,2,3]\n",
        "    knapsack_.sort()\n",
        "\n",
        "    knapsack_W = np.sum([item['Weight'][i] for i in knapsack_]) # 计算当前包内物品的总和\n",
        "    if knapsack_W > limit_W:\n",
        "        r = -10\n",
        "        done = True\n",
        "    else:\n",
        "        r = item['Value'][action]\n",
        "        done = False\n",
        "    return r, knapsack_, done"
      ],
      "execution_count": 115,
      "outputs": []
    },
    {
      "cell_type": "markdown",
      "metadata": {
        "id": "MzDmpMwv2sNY",
        "colab_type": "text"
      },
      "source": [
        "### Q Table开始更新"
      ]
    },
    {
      "cell_type": "code",
      "metadata": {
        "id": "5t9zu3tT7Emt",
        "colab_type": "code",
        "colab": {}
      },
      "source": [
        "def check_state(Q, knapsack, actions):\n",
        "    \"\"\"检查状态knapsack是否在q-table中, 没有则进行添加\n",
        "    \"\"\"\n",
        "    if str(knapsack) not in Q.index: # knapsack表示状态, 例如现在包里有[1,2]\n",
        "        # append new state to q table\n",
        "        q_table_new = pd.Series([np.NAN]*len(actions), index=Q.columns, name=str(knapsack))\n",
        "        # 下面是将能使用的状态设置为0, 不能使用的设置为NaN (这个很重要)\n",
        "        for i in list(set(actions).difference(set(knapsack))):\n",
        "            q_table_new[i] = 0\n",
        "        return Q.append(q_table_new)\n",
        "    else:\n",
        "        return Q"
      ],
      "execution_count": 116,
      "outputs": []
    },
    {
      "cell_type": "code",
      "metadata": {
        "id": "fk2h3BLM2rtp",
        "colab_type": "code",
        "colab": {}
      },
      "source": [
        "def qLearning(actions, num_episodes, discount_factor=1.0, alpha=0.7, epsilon=0.2):\n",
        "    # 环境中所有动作的数量\n",
        "    nA = len(actions)\n",
        "\n",
        "    # 初始化Q表\n",
        "    Q = pd.DataFrame(columns=actions)\n",
        "    \n",
        "    # 记录reward和总长度的变化\n",
        "    stats = plotting.EpisodeStats(\n",
        "        episode_lengths=np.zeros(num_episodes+1),\n",
        "        episode_rewards=np.zeros(num_episodes+1)) \n",
        "    \n",
        "\n",
        "    for i_episode in range(1, num_episodes + 1):\n",
        "        # 开始一轮游戏\n",
        "        knapsack = [] # 开始的时候背包是空的\n",
        "        Q = check_state(Q, knapsack, actions)\n",
        "        action = np.random.choice(nA, p=mu_policy(Q, epsilon, nA, knapsack, actions)) # 从实际执行的policy, 选择action\n",
        "        for t in itertools.count():\n",
        "            reward, next_knapsack, done = envReward(action, knapsack) # 执行action, 返回reward和下一步的状态\n",
        "            Q = check_state(Q, next_knapsack, actions)\n",
        "\n",
        "            next_action = np.random.choice(nA, p=mu_policy(Q, epsilon, nA, next_knapsack, actions)) # 选择下一步的动作\n",
        "            # 更新Q\n",
        "            Q.loc[str(knapsack), action] = Q.loc[str(knapsack), action] + alpha*(reward + discount_factor*Q.loc[str(next_knapsack), :].max() - Q.loc[str(knapsack), action])\n",
        "\n",
        "            # 计算统计数据(带有探索的策略)\n",
        "            stats.episode_rewards[i_episode] += reward # 计算累计奖励\n",
        "            stats.episode_lengths[i_episode] = t # 查看每一轮的时间\n",
        "\n",
        "            if done:\n",
        "                break\n",
        "            \n",
        "            if t > 10:\n",
        "                break\n",
        "\n",
        "            knapsack = next_knapsack\n",
        "            action = next_action\n",
        "\n",
        "        if i_episode % 50 == 0:\n",
        "            # 打印\n",
        "            print(\"\\rEpisode {}/{}. | \".format(i_episode, num_episodes), end=\"\")\n",
        "    \n",
        "    return Q, stats"
      ],
      "execution_count": 169,
      "outputs": []
    },
    {
      "cell_type": "markdown",
      "metadata": {
        "id": "yxB-BDhm6TiU",
        "colab_type": "text"
      },
      "source": [
        "### 进行训练"
      ]
    },
    {
      "cell_type": "code",
      "metadata": {
        "id": "9qNNb0wt6TJB",
        "colab_type": "code",
        "colab": {
          "base_uri": "https://localhost:8080/",
          "height": 35
        },
        "outputId": "27ccbf9d-a415-4853-830f-f3a2264287ae"
      },
      "source": [
        "Q, stats = qLearning(actions, num_episodes=1000, discount_factor=0.9, alpha=0.3, epsilon=0.1)"
      ],
      "execution_count": 170,
      "outputs": [
        {
          "output_type": "stream",
          "text": [
            "Episode 1000/1000. | "
          ],
          "name": "stdout"
        }
      ]
    },
    {
      "cell_type": "code",
      "metadata": {
        "id": "4CcH6PrtFpwX",
        "colab_type": "code",
        "colab": {
          "base_uri": "https://localhost:8080/",
          "height": 917
        },
        "outputId": "3d5b28e9-e6d7-4a87-95ad-1f022fff9a92"
      },
      "source": [
        "Q"
      ],
      "execution_count": 171,
      "outputs": [
        {
          "output_type": "execute_result",
          "data": {
            "text/html": [
              "<div>\n",
              "<style scoped>\n",
              "    .dataframe tbody tr th:only-of-type {\n",
              "        vertical-align: middle;\n",
              "    }\n",
              "\n",
              "    .dataframe tbody tr th {\n",
              "        vertical-align: top;\n",
              "    }\n",
              "\n",
              "    .dataframe thead th {\n",
              "        text-align: right;\n",
              "    }\n",
              "</style>\n",
              "<table border=\"1\" class=\"dataframe\">\n",
              "  <thead>\n",
              "    <tr style=\"text-align: right;\">\n",
              "      <th></th>\n",
              "      <th>0</th>\n",
              "      <th>1</th>\n",
              "      <th>2</th>\n",
              "      <th>3</th>\n",
              "      <th>4</th>\n",
              "    </tr>\n",
              "  </thead>\n",
              "  <tbody>\n",
              "    <tr>\n",
              "      <th>[]</th>\n",
              "      <td>16.324878</td>\n",
              "      <td>23.331530</td>\n",
              "      <td>29.700000</td>\n",
              "      <td>23.058438</td>\n",
              "      <td>26.920000</td>\n",
              "    </tr>\n",
              "    <tr>\n",
              "      <th>[0]</th>\n",
              "      <td>NaN</td>\n",
              "      <td>19.572150</td>\n",
              "      <td>0.000000</td>\n",
              "      <td>7.315684</td>\n",
              "      <td>12.913523</td>\n",
              "    </tr>\n",
              "    <tr>\n",
              "      <th>[0, 1]</th>\n",
              "      <td>NaN</td>\n",
              "      <td>NaN</td>\n",
              "      <td>9.329467</td>\n",
              "      <td>0.000000</td>\n",
              "      <td>17.904709</td>\n",
              "    </tr>\n",
              "    <tr>\n",
              "      <th>[0, 1, 2]</th>\n",
              "      <td>NaN</td>\n",
              "      <td>NaN</td>\n",
              "      <td>NaN</td>\n",
              "      <td>-9.998084</td>\n",
              "      <td>-9.998084</td>\n",
              "    </tr>\n",
              "    <tr>\n",
              "      <th>[0, 1, 2, 3]</th>\n",
              "      <td>NaN</td>\n",
              "      <td>NaN</td>\n",
              "      <td>NaN</td>\n",
              "      <td>NaN</td>\n",
              "      <td>0.000000</td>\n",
              "    </tr>\n",
              "    <tr>\n",
              "      <th>[0, 1, 2, 4]</th>\n",
              "      <td>NaN</td>\n",
              "      <td>NaN</td>\n",
              "      <td>NaN</td>\n",
              "      <td>0.000000</td>\n",
              "      <td>NaN</td>\n",
              "    </tr>\n",
              "    <tr>\n",
              "      <th>[4]</th>\n",
              "      <td>-1.576235</td>\n",
              "      <td>-1.200000</td>\n",
              "      <td>-6.570000</td>\n",
              "      <td>-9.176457</td>\n",
              "      <td>NaN</td>\n",
              "    </tr>\n",
              "    <tr>\n",
              "      <th>[0, 4]</th>\n",
              "      <td>NaN</td>\n",
              "      <td>-2.986360</td>\n",
              "      <td>-3.000000</td>\n",
              "      <td>-5.100000</td>\n",
              "      <td>NaN</td>\n",
              "    </tr>\n",
              "    <tr>\n",
              "      <th>[0, 1, 4]</th>\n",
              "      <td>NaN</td>\n",
              "      <td>NaN</td>\n",
              "      <td>-10.000000</td>\n",
              "      <td>-10.000000</td>\n",
              "      <td>NaN</td>\n",
              "    </tr>\n",
              "    <tr>\n",
              "      <th>[0, 1, 3, 4]</th>\n",
              "      <td>NaN</td>\n",
              "      <td>NaN</td>\n",
              "      <td>0.000000</td>\n",
              "      <td>NaN</td>\n",
              "      <td>NaN</td>\n",
              "    </tr>\n",
              "    <tr>\n",
              "      <th>[2, 4]</th>\n",
              "      <td>0.000000</td>\n",
              "      <td>0.000000</td>\n",
              "      <td>NaN</td>\n",
              "      <td>0.000000</td>\n",
              "      <td>NaN</td>\n",
              "    </tr>\n",
              "    <tr>\n",
              "      <th>[0, 2, 4]</th>\n",
              "      <td>NaN</td>\n",
              "      <td>0.000000</td>\n",
              "      <td>NaN</td>\n",
              "      <td>0.000000</td>\n",
              "      <td>NaN</td>\n",
              "    </tr>\n",
              "    <tr>\n",
              "      <th>[3]</th>\n",
              "      <td>0.423496</td>\n",
              "      <td>0.000000</td>\n",
              "      <td>0.000000</td>\n",
              "      <td>NaN</td>\n",
              "      <td>-3.000000</td>\n",
              "    </tr>\n",
              "    <tr>\n",
              "      <th>[0, 3]</th>\n",
              "      <td>NaN</td>\n",
              "      <td>-1.607148</td>\n",
              "      <td>-3.000000</td>\n",
              "      <td>NaN</td>\n",
              "      <td>-3.000000</td>\n",
              "    </tr>\n",
              "    <tr>\n",
              "      <th>[0, 1, 3]</th>\n",
              "      <td>NaN</td>\n",
              "      <td>NaN</td>\n",
              "      <td>-9.423520</td>\n",
              "      <td>NaN</td>\n",
              "      <td>-9.176457</td>\n",
              "    </tr>\n",
              "    <tr>\n",
              "      <th>[0, 3, 4]</th>\n",
              "      <td>NaN</td>\n",
              "      <td>0.000000</td>\n",
              "      <td>0.000000</td>\n",
              "      <td>NaN</td>\n",
              "      <td>NaN</td>\n",
              "    </tr>\n",
              "    <tr>\n",
              "      <th>[2]</th>\n",
              "      <td>-1.635945</td>\n",
              "      <td>-0.438600</td>\n",
              "      <td>NaN</td>\n",
              "      <td>13.000000</td>\n",
              "      <td>-9.976737</td>\n",
              "    </tr>\n",
              "    <tr>\n",
              "      <th>[0, 2]</th>\n",
              "      <td>NaN</td>\n",
              "      <td>-2.987139</td>\n",
              "      <td>NaN</td>\n",
              "      <td>-5.100000</td>\n",
              "      <td>-3.000000</td>\n",
              "    </tr>\n",
              "    <tr>\n",
              "      <th>[1, 4]</th>\n",
              "      <td>-8.000000</td>\n",
              "      <td>NaN</td>\n",
              "      <td>-9.802267</td>\n",
              "      <td>-9.932178</td>\n",
              "      <td>NaN</td>\n",
              "    </tr>\n",
              "    <tr>\n",
              "      <th>[1, 2, 4]</th>\n",
              "      <td>0.000000</td>\n",
              "      <td>NaN</td>\n",
              "      <td>NaN</td>\n",
              "      <td>0.000000</td>\n",
              "      <td>NaN</td>\n",
              "    </tr>\n",
              "    <tr>\n",
              "      <th>[1, 3, 4]</th>\n",
              "      <td>0.000000</td>\n",
              "      <td>NaN</td>\n",
              "      <td>0.000000</td>\n",
              "      <td>NaN</td>\n",
              "      <td>NaN</td>\n",
              "    </tr>\n",
              "    <tr>\n",
              "      <th>[1]</th>\n",
              "      <td>5.963992</td>\n",
              "      <td>NaN</td>\n",
              "      <td>5.400000</td>\n",
              "      <td>0.000000</td>\n",
              "      <td>20.512101</td>\n",
              "    </tr>\n",
              "    <tr>\n",
              "      <th>[3, 4]</th>\n",
              "      <td>0.000000</td>\n",
              "      <td>0.000000</td>\n",
              "      <td>0.000000</td>\n",
              "      <td>NaN</td>\n",
              "      <td>NaN</td>\n",
              "    </tr>\n",
              "    <tr>\n",
              "      <th>[2, 3]</th>\n",
              "      <td>-10.000000</td>\n",
              "      <td>-10.000000</td>\n",
              "      <td>NaN</td>\n",
              "      <td>NaN</td>\n",
              "      <td>-10.000000</td>\n",
              "    </tr>\n",
              "    <tr>\n",
              "      <th>[0, 2, 3]</th>\n",
              "      <td>NaN</td>\n",
              "      <td>0.000000</td>\n",
              "      <td>NaN</td>\n",
              "      <td>NaN</td>\n",
              "      <td>0.000000</td>\n",
              "    </tr>\n",
              "    <tr>\n",
              "      <th>[1, 2, 3]</th>\n",
              "      <td>0.000000</td>\n",
              "      <td>NaN</td>\n",
              "      <td>NaN</td>\n",
              "      <td>NaN</td>\n",
              "      <td>0.000000</td>\n",
              "    </tr>\n",
              "    <tr>\n",
              "      <th>[2, 3, 4]</th>\n",
              "      <td>0.000000</td>\n",
              "      <td>0.000000</td>\n",
              "      <td>NaN</td>\n",
              "      <td>NaN</td>\n",
              "      <td>NaN</td>\n",
              "    </tr>\n",
              "    <tr>\n",
              "      <th>[1, 2]</th>\n",
              "      <td>-7.644904</td>\n",
              "      <td>NaN</td>\n",
              "      <td>NaN</td>\n",
              "      <td>-8.319300</td>\n",
              "      <td>-8.319300</td>\n",
              "    </tr>\n",
              "  </tbody>\n",
              "</table>\n",
              "</div>"
            ],
            "text/plain": [
              "                      0          1          2          3          4\n",
              "[]            16.324878  23.331530  29.700000  23.058438  26.920000\n",
              "[0]                 NaN  19.572150   0.000000   7.315684  12.913523\n",
              "[0, 1]              NaN        NaN   9.329467   0.000000  17.904709\n",
              "[0, 1, 2]           NaN        NaN        NaN  -9.998084  -9.998084\n",
              "[0, 1, 2, 3]        NaN        NaN        NaN        NaN   0.000000\n",
              "[0, 1, 2, 4]        NaN        NaN        NaN   0.000000        NaN\n",
              "[4]           -1.576235  -1.200000  -6.570000  -9.176457        NaN\n",
              "[0, 4]              NaN  -2.986360  -3.000000  -5.100000        NaN\n",
              "[0, 1, 4]           NaN        NaN -10.000000 -10.000000        NaN\n",
              "[0, 1, 3, 4]        NaN        NaN   0.000000        NaN        NaN\n",
              "[2, 4]         0.000000   0.000000        NaN   0.000000        NaN\n",
              "[0, 2, 4]           NaN   0.000000        NaN   0.000000        NaN\n",
              "[3]            0.423496   0.000000   0.000000        NaN  -3.000000\n",
              "[0, 3]              NaN  -1.607148  -3.000000        NaN  -3.000000\n",
              "[0, 1, 3]           NaN        NaN  -9.423520        NaN  -9.176457\n",
              "[0, 3, 4]           NaN   0.000000   0.000000        NaN        NaN\n",
              "[2]           -1.635945  -0.438600        NaN  13.000000  -9.976737\n",
              "[0, 2]              NaN  -2.987139        NaN  -5.100000  -3.000000\n",
              "[1, 4]        -8.000000        NaN  -9.802267  -9.932178        NaN\n",
              "[1, 2, 4]      0.000000        NaN        NaN   0.000000        NaN\n",
              "[1, 3, 4]      0.000000        NaN   0.000000        NaN        NaN\n",
              "[1]            5.963992        NaN   5.400000   0.000000  20.512101\n",
              "[3, 4]         0.000000   0.000000   0.000000        NaN        NaN\n",
              "[2, 3]       -10.000000 -10.000000        NaN        NaN -10.000000\n",
              "[0, 2, 3]           NaN   0.000000        NaN        NaN   0.000000\n",
              "[1, 2, 3]      0.000000        NaN        NaN        NaN   0.000000\n",
              "[2, 3, 4]      0.000000   0.000000        NaN        NaN        NaN\n",
              "[1, 2]        -7.644904        NaN        NaN  -8.319300  -8.319300"
            ]
          },
          "metadata": {
            "tags": []
          },
          "execution_count": 171
        }
      ]
    },
    {
      "cell_type": "code",
      "metadata": {
        "id": "S0XUCUwJBQDI",
        "colab_type": "code",
        "colab": {
          "base_uri": "https://localhost:8080/",
          "height": 1000
        },
        "outputId": "ac329396-8456-413b-b6a2-c4942d7a063a"
      },
      "source": [
        "# 因为策略会有尝试, 所以reward看起来不稳定\n",
        "plotting.plot_episode_stats(stats)"
      ],
      "execution_count": 172,
      "outputs": [
        {
          "output_type": "display_data",
          "data": {
            "image/png": "[encoded data removed]",
            "text/plain": [
              "<Figure size 720x360 with 1 Axes>"
            ]
          },
          "metadata": {
            "tags": [],
            "needs_background": "light"
          }
        },
        {
          "output_type": "display_data",
          "data": {
            "image/png": "[encoded data removed]",
            "text/plain": [
              "<Figure size 720x360 with 1 Axes>"
            ]
          },
          "metadata": {
            "tags": [],
            "needs_background": "light"
          }
        },
        {
          "output_type": "display_data",
          "data": {
            "image/png": "[encoded data removed]",
            "text/plain": [
              "<Figure size 720x360 with 1 Axes>"
            ]
          },
          "metadata": {
            "tags": [],
            "needs_background": "light"
          }
        },
        {
          "output_type": "execute_result",
          "data": {
            "text/plain": [
              "(<Figure size 720x360 with 1 Axes>,\n",
              " <Figure size 720x360 with 1 Axes>,\n",
              " <Figure size 720x360 with 1 Axes>)"
            ]
          },
          "metadata": {
            "tags": []
          },
          "execution_count": 172
        }
      ]
    },
    {
      "cell_type": "code",
      "metadata": {
        "id": "9RfhWl288p-i",
        "colab_type": "code",
        "colab": {}
      },
      "source": [
        "# 查看最终结果\n",
        "actionsList = []\n",
        "knapsack = [] # 开始的时候背包是空的\n",
        "nA = len(actions)\n",
        "\n",
        "action = np.random.choice(nA, p=pi_policy(Q, knapsack)) # 从实际执行的policy, 选择action\n",
        "\n",
        "for t in itertools.count():\n",
        "    actionsList.append(action)\n",
        "    reward, next_knapsack, done = envReward(action, knapsack) # 执行action, 返回reward和下一步的状态\n",
        "    next_action = np.random.choice(nA, p=pi_policy(Q, next_knapsack)) # 选择下一步的动作\n",
        "    if done:\n",
        "        actionsList.pop()\n",
        "        break\n",
        "    else:\n",
        "        action = next_action\n",
        "        knapsack = next_knapsack"
      ],
      "execution_count": 162,
      "outputs": []
    },
    {
      "cell_type": "code",
      "metadata": {
        "id": "GvCGKZpuCke_",
        "colab_type": "code",
        "colab": {
          "base_uri": "https://localhost:8080/",
          "height": 35
        },
        "outputId": "d4bf00b4-86da-4b10-9304-2720263f4982"
      },
      "source": [
        "actionsList"
      ],
      "execution_count": 163,
      "outputs": [
        {
          "output_type": "execute_result",
          "data": {
            "text/plain": [
              "[3, 2]"
            ]
          },
          "metadata": {
            "tags": []
          },
          "execution_count": 163
        }
      ]
    },
    {
      "cell_type": "markdown",
      "metadata": {
        "id": "kjuZ_FvYBe4f",
        "colab_type": "text"
      },
      "source": [
        "## 下面是知乎上的代码"
      ]
    },
    {
      "cell_type": "code",
      "metadata": {
        "id": "1QUY_lilkujC",
        "colab_type": "code",
        "colab": {}
      },
      "source": [
        "class RLforKnapsack():\n",
        "    def __init__(self, limit_W, actions):\n",
        "        self.limit_W = limit_W  # maximal weight\n",
        "        self.epsilon = 0.9  # e-greedy algorithm\n",
        "        self.gamma = 0.9  # reward decay (衰减因子)\n",
        "        self.alpha = 0.8  # learning_rate\n",
        "        self.actions = actions\n",
        "        self.q_table = pd.DataFrame(columns=actions)\n",
        "        self.done = False\n",
        "\n",
        "    def check_state(self, knapsack):\n",
        "        \"\"\"检查状态knapsack是否在q-table中, 没有则进行添加\n",
        "        \"\"\"\n",
        "        if str(knapsack) not in self.q_table.index: # knapsack表示状态, 例如现在包里有[1,2]\n",
        "            # append new state to q table\n",
        "            q_table_new = pd.Series([np.NAN]*len(self.actions),\n",
        "                                    index=self.q_table.columns,\n",
        "                                    name=str(knapsack))\n",
        "            # 下面是将能使用的状态设置为0, 不能使用的设置为NaN (这个很重要)\n",
        "            for i in list(set(self.actions).difference(set(knapsack))):\n",
        "                q_table_new[i] = 0\n",
        "            self.q_table = self.q_table.append(q_table_new)\n",
        "\n",
        "    def choose_action(self, knapsack):\n",
        "        \"\"\"epsilon-greedy策略, 用来探索\n",
        "        \"\"\"\n",
        "        self.check_state(knapsack) # 检查这个状态是否在q table中\n",
        "        state_action = self.q_table.loc[str(knapsack), :] # 得到这个state每一个action的value\n",
        "        # random state_action in case there are two or more maximum\n",
        "        # state_action = state_action.reindex(np.random.permutation(state_action.index)) # 得到动作序列(这里为什么需要reindex), 而且为什么这样都是可以收敛的\n",
        "        if np.random.uniform() < self.epsilon:\n",
        "            # choose best action\n",
        "            action = state_action.idxmax()  # the first maximun\n",
        "        else:\n",
        "            # choose random action\n",
        "            action = np.random.choice(list(set(self.actions).difference(set(knapsack)))) # 从剩下的里面随机挑(不能重选, 这个很重要)\n",
        "        return action\n",
        "\n",
        "    def greedy_action(self, knapsack):\n",
        "        \"\"\"greedy策略, 用来实际执行, choose best action.\n",
        "        \"\"\"\n",
        "        state_action = self.q_table.loc[str(knapsack), :]\n",
        "        # state_action = state_action.reindex(np.random.permutation(state_action.index))\n",
        "        action = state_action.idxmax() # 返回最大值对应的id\n",
        "        return action\n",
        "\n",
        "    def take_action(self, knapsack, action):\n",
        "        \"\"\"选择物品, 并添加到q_table中去\n",
        "        \"\"\"\n",
        "        knapsack_ = knapsack + [action]\n",
        "        knapsack_.sort()\n",
        "        self.check_state(knapsack_) # 向q-table里面添加\n",
        "        return knapsack_\n",
        "\n",
        "    def rewardWithPenalty(self, knapsack_, action):\n",
        "        \"\"\"reward函数, 有constraint的作用, 通过reward来限制包内的物品重量\n",
        "        \"\"\"\n",
        "        knapsack_W = np.sum([item['Weight'][i] for i in knapsack_]) # 计算包内物品的总和\n",
        "        if knapsack_W > self.limit_W:\n",
        "            r = -10\n",
        "            self.done = True\n",
        "        else:\n",
        "            r = item['Value'][action]\n",
        "        return r\n",
        "\n",
        "    def update_qvalue(self, knapsack, knapsack_, action):\n",
        "        \"\"\"knapsack表示当前的state, knapsack_表示下一个state\n",
        "        \"\"\"\n",
        "        self.done = False\n",
        "        reward = self.rewardWithPenalty(knapsack_, action) # 获得对应的reward\n",
        "        q_predict = self.q_table.loc[str(knapsack), action] # 获得q值\n",
        "        if len(knapsack) != len(self.actions): # 判断是否所有的物品都已经用完\n",
        "            q_target = reward + self.gamma * self.q_table.loc[str(knapsack_), :].max()\n",
        "        else:\n",
        "            q_target = reward  # no item can be added\n",
        "        self.q_table.loc[str(knapsack), action] += self.alpha * (q_target - q_predict)\n",
        "        return self.q_table, self.done"
      ],
      "execution_count": 173,
      "outputs": []
    },
    {
      "cell_type": "code",
      "metadata": {
        "id": "aFwEI2c3oEXg",
        "colab_type": "code",
        "colab": {
          "base_uri": "https://localhost:8080/",
          "height": 499
        },
        "outputId": "e419074c-5112-490b-e2e4-2707c90ed895"
      },
      "source": [
        "t1 = time()\n",
        "\n",
        "# 进行可视化\n",
        "cmap = plt.get_cmap('plasma',5) # 数字与颜色的转换\n",
        "\n",
        "plt.close('all')\n",
        "fig = plt.figure(figsize=(12,8))\n",
        "ax = fig.add_subplot(1,1,1)\n",
        "\n",
        "\n",
        "RL = RLforKnapsack(limit_W=11, actions=actions)\n",
        "for episode in range(100):\n",
        "    knapsack = []\n",
        "    for step in range(5):\n",
        "        action = RL.choose_action(knapsack)\n",
        "        knapsack_ = RL.take_action(knapsack, action)\n",
        "        q_table_RL, done = RL.update_qvalue(knapsack, knapsack_, action)\n",
        "        knapsack = knapsack_\n",
        "        if done:\n",
        "            break\n",
        "    # 初始状态, 采取不同action之后会获得的累计reward\n",
        "    ax.scatter(episode, q_table_RL.iloc[0, 0], color=cmap(0))\n",
        "    ax.scatter(episode, q_table_RL.iloc[0, 1], color=cmap(1))\n",
        "    ax.scatter(episode, q_table_RL.iloc[0, 2], color=cmap(2))\n",
        "    ax.scatter(episode, q_table_RL.iloc[0, 3], color=cmap(3))\n",
        "    ax.scatter(episode, q_table_RL.iloc[0, 4], color=cmap(4))\n",
        "\n",
        "t2 = time()\n",
        "plt.title([t2-t1, 'RL'])\n",
        "plt.show()"
      ],
      "execution_count": 188,
      "outputs": [
        {
          "output_type": "display_data",
          "data": {
            "image/png": "[encoded data removed]",
            "text/plain": [
              "<Figure size 864x576 with 1 Axes>"
            ]
          },
          "metadata": {
            "tags": [],
            "needs_background": "light"
          }
        }
      ]
    },
    {
      "cell_type": "code",
      "metadata": {
        "id": "jb_sSJB5SLk3",
        "colab_type": "code",
        "colab": {
          "base_uri": "https://localhost:8080/",
          "height": 793
        },
        "outputId": "c30b6fc4-6546-4f03-cbcc-e3a384f0fcca"
      },
      "source": [
        "q_table_RL"
      ],
      "execution_count": 187,
      "outputs": [
        {
          "output_type": "execute_result",
          "data": {
            "text/html": [
              "<div>\n",
              "<style scoped>\n",
              "    .dataframe tbody tr th:only-of-type {\n",
              "        vertical-align: middle;\n",
              "    }\n",
              "\n",
              "    .dataframe tbody tr th {\n",
              "        vertical-align: top;\n",
              "    }\n",
              "\n",
              "    .dataframe thead th {\n",
              "        text-align: right;\n",
              "    }\n",
              "</style>\n",
              "<table border=\"1\" class=\"dataframe\">\n",
              "  <thead>\n",
              "    <tr style=\"text-align: right;\">\n",
              "      <th></th>\n",
              "      <th>0</th>\n",
              "      <th>1</th>\n",
              "      <th>2</th>\n",
              "      <th>3</th>\n",
              "      <th>4</th>\n",
              "    </tr>\n",
              "  </thead>\n",
              "  <tbody>\n",
              "    <tr>\n",
              "      <th>[]</th>\n",
              "      <td>13.690209</td>\n",
              "      <td>4.800000</td>\n",
              "      <td>14.400000</td>\n",
              "      <td>21.696000</td>\n",
              "      <td>26.920000</td>\n",
              "    </tr>\n",
              "    <tr>\n",
              "      <th>[0]</th>\n",
              "      <td>NaN</td>\n",
              "      <td>14.100066</td>\n",
              "      <td>0.000000</td>\n",
              "      <td>0.000000</td>\n",
              "      <td>0.000000</td>\n",
              "    </tr>\n",
              "    <tr>\n",
              "      <th>[0, 1]</th>\n",
              "      <td>NaN</td>\n",
              "      <td>NaN</td>\n",
              "      <td>9.000009</td>\n",
              "      <td>0.000000</td>\n",
              "      <td>0.000000</td>\n",
              "    </tr>\n",
              "    <tr>\n",
              "      <th>[0, 1, 2]</th>\n",
              "      <td>NaN</td>\n",
              "      <td>NaN</td>\n",
              "      <td>NaN</td>\n",
              "      <td>-9.999999</td>\n",
              "      <td>-9.999995</td>\n",
              "    </tr>\n",
              "    <tr>\n",
              "      <th>[0, 1, 2, 3]</th>\n",
              "      <td>NaN</td>\n",
              "      <td>NaN</td>\n",
              "      <td>NaN</td>\n",
              "      <td>NaN</td>\n",
              "      <td>0.000000</td>\n",
              "    </tr>\n",
              "    <tr>\n",
              "      <th>[0, 1, 2, 4]</th>\n",
              "      <td>NaN</td>\n",
              "      <td>NaN</td>\n",
              "      <td>NaN</td>\n",
              "      <td>0.000000</td>\n",
              "      <td>NaN</td>\n",
              "    </tr>\n",
              "    <tr>\n",
              "      <th>[4]</th>\n",
              "      <td>-1.688458</td>\n",
              "      <td>-1.200000</td>\n",
              "      <td>-9.984000</td>\n",
              "      <td>-9.600000</td>\n",
              "      <td>NaN</td>\n",
              "    </tr>\n",
              "    <tr>\n",
              "      <th>[0, 4]</th>\n",
              "      <td>NaN</td>\n",
              "      <td>-2.996478</td>\n",
              "      <td>-9.600000</td>\n",
              "      <td>-8.000000</td>\n",
              "      <td>NaN</td>\n",
              "    </tr>\n",
              "    <tr>\n",
              "      <th>[0, 1, 4]</th>\n",
              "      <td>NaN</td>\n",
              "      <td>NaN</td>\n",
              "      <td>-10.000000</td>\n",
              "      <td>-10.000000</td>\n",
              "      <td>NaN</td>\n",
              "    </tr>\n",
              "    <tr>\n",
              "      <th>[0, 1, 3, 4]</th>\n",
              "      <td>NaN</td>\n",
              "      <td>NaN</td>\n",
              "      <td>0.000000</td>\n",
              "      <td>NaN</td>\n",
              "      <td>NaN</td>\n",
              "    </tr>\n",
              "    <tr>\n",
              "      <th>[0, 2, 4]</th>\n",
              "      <td>NaN</td>\n",
              "      <td>0.000000</td>\n",
              "      <td>NaN</td>\n",
              "      <td>0.000000</td>\n",
              "      <td>NaN</td>\n",
              "    </tr>\n",
              "    <tr>\n",
              "      <th>[0, 3, 4]</th>\n",
              "      <td>NaN</td>\n",
              "      <td>0.000000</td>\n",
              "      <td>0.000000</td>\n",
              "      <td>NaN</td>\n",
              "      <td>NaN</td>\n",
              "    </tr>\n",
              "    <tr>\n",
              "      <th>[1, 4]</th>\n",
              "      <td>-8.000000</td>\n",
              "      <td>NaN</td>\n",
              "      <td>-9.920000</td>\n",
              "      <td>-9.920000</td>\n",
              "      <td>NaN</td>\n",
              "    </tr>\n",
              "    <tr>\n",
              "      <th>[1, 2, 4]</th>\n",
              "      <td>0.000000</td>\n",
              "      <td>NaN</td>\n",
              "      <td>NaN</td>\n",
              "      <td>0.000000</td>\n",
              "      <td>NaN</td>\n",
              "    </tr>\n",
              "    <tr>\n",
              "      <th>[1, 3, 4]</th>\n",
              "      <td>0.000000</td>\n",
              "      <td>NaN</td>\n",
              "      <td>0.000000</td>\n",
              "      <td>NaN</td>\n",
              "      <td>NaN</td>\n",
              "    </tr>\n",
              "    <tr>\n",
              "      <th>[2, 4]</th>\n",
              "      <td>0.000000</td>\n",
              "      <td>0.000000</td>\n",
              "      <td>NaN</td>\n",
              "      <td>0.000000</td>\n",
              "      <td>NaN</td>\n",
              "    </tr>\n",
              "    <tr>\n",
              "      <th>[3, 4]</th>\n",
              "      <td>0.000000</td>\n",
              "      <td>0.000000</td>\n",
              "      <td>0.000000</td>\n",
              "      <td>NaN</td>\n",
              "      <td>NaN</td>\n",
              "    </tr>\n",
              "    <tr>\n",
              "      <th>[3]</th>\n",
              "      <td>4.416000</td>\n",
              "      <td>0.000000</td>\n",
              "      <td>0.000000</td>\n",
              "      <td>NaN</td>\n",
              "      <td>0.000000</td>\n",
              "    </tr>\n",
              "    <tr>\n",
              "      <th>[0, 3]</th>\n",
              "      <td>NaN</td>\n",
              "      <td>5.760000</td>\n",
              "      <td>0.000000</td>\n",
              "      <td>NaN</td>\n",
              "      <td>0.000000</td>\n",
              "    </tr>\n",
              "    <tr>\n",
              "      <th>[0, 1, 3]</th>\n",
              "      <td>NaN</td>\n",
              "      <td>NaN</td>\n",
              "      <td>-8.000000</td>\n",
              "      <td>NaN</td>\n",
              "      <td>-8.000000</td>\n",
              "    </tr>\n",
              "    <tr>\n",
              "      <th>[1]</th>\n",
              "      <td>7.280020</td>\n",
              "      <td>NaN</td>\n",
              "      <td>0.000000</td>\n",
              "      <td>0.000000</td>\n",
              "      <td>0.000000</td>\n",
              "    </tr>\n",
              "    <tr>\n",
              "      <th>[2]</th>\n",
              "      <td>0.800000</td>\n",
              "      <td>0.000000</td>\n",
              "      <td>NaN</td>\n",
              "      <td>0.000000</td>\n",
              "      <td>0.000000</td>\n",
              "    </tr>\n",
              "    <tr>\n",
              "      <th>[0, 2]</th>\n",
              "      <td>NaN</td>\n",
              "      <td>0.000000</td>\n",
              "      <td>NaN</td>\n",
              "      <td>-8.000000</td>\n",
              "      <td>0.000000</td>\n",
              "    </tr>\n",
              "    <tr>\n",
              "      <th>[0, 2, 3]</th>\n",
              "      <td>NaN</td>\n",
              "      <td>0.000000</td>\n",
              "      <td>NaN</td>\n",
              "      <td>NaN</td>\n",
              "      <td>0.000000</td>\n",
              "    </tr>\n",
              "  </tbody>\n",
              "</table>\n",
              "</div>"
            ],
            "text/plain": [
              "                      0          1          2          3          4\n",
              "[]            13.690209   4.800000  14.400000  21.696000  26.920000\n",
              "[0]                 NaN  14.100066   0.000000   0.000000   0.000000\n",
              "[0, 1]              NaN        NaN   9.000009   0.000000   0.000000\n",
              "[0, 1, 2]           NaN        NaN        NaN  -9.999999  -9.999995\n",
              "[0, 1, 2, 3]        NaN        NaN        NaN        NaN   0.000000\n",
              "[0, 1, 2, 4]        NaN        NaN        NaN   0.000000        NaN\n",
              "[4]           -1.688458  -1.200000  -9.984000  -9.600000        NaN\n",
              "[0, 4]              NaN  -2.996478  -9.600000  -8.000000        NaN\n",
              "[0, 1, 4]           NaN        NaN -10.000000 -10.000000        NaN\n",
              "[0, 1, 3, 4]        NaN        NaN   0.000000        NaN        NaN\n",
              "[0, 2, 4]           NaN   0.000000        NaN   0.000000        NaN\n",
              "[0, 3, 4]           NaN   0.000000   0.000000        NaN        NaN\n",
              "[1, 4]        -8.000000        NaN  -9.920000  -9.920000        NaN\n",
              "[1, 2, 4]      0.000000        NaN        NaN   0.000000        NaN\n",
              "[1, 3, 4]      0.000000        NaN   0.000000        NaN        NaN\n",
              "[2, 4]         0.000000   0.000000        NaN   0.000000        NaN\n",
              "[3, 4]         0.000000   0.000000   0.000000        NaN        NaN\n",
              "[3]            4.416000   0.000000   0.000000        NaN   0.000000\n",
              "[0, 3]              NaN   5.760000   0.000000        NaN   0.000000\n",
              "[0, 1, 3]           NaN        NaN  -8.000000        NaN  -8.000000\n",
              "[1]            7.280020        NaN   0.000000   0.000000   0.000000\n",
              "[2]            0.800000   0.000000        NaN   0.000000   0.000000\n",
              "[0, 2]              NaN   0.000000        NaN  -8.000000   0.000000\n",
              "[0, 2, 3]           NaN   0.000000        NaN        NaN   0.000000"
            ]
          },
          "metadata": {
            "tags": []
          },
          "execution_count": 187
        }
      ]
    },
    {
      "cell_type": "code",
      "metadata": {
        "id": "cEX_Hm9Coswv",
        "colab_type": "code",
        "colab": {}
      },
      "source": [
        "\n",
        "# %% Policy based on q table\n",
        "knapsack = []\n",
        "# %%\n",
        "action = RL.greedy_action(knapsack)\n",
        "knapsack_ = RL.take_action(knapsack, action)\n",
        "knapsack = knapsack_\n",
        "np.sum([item['Weight'][i] for i in knapsack_])\n",
        "print(np.sum([item['Weight'][i] for i in knapsack_]))\n",
        "# %%"
      ],
      "execution_count": null,
      "outputs": []
    }
  ]
}