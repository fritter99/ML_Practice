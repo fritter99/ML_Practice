{
  "nbformat": 4,
  "nbformat_minor": 0,
  "metadata": {
    "colab": {
      "name": "00_Reinforcement Learning_Gym介绍.ipynb",
      "provenance": [],
      "collapsed_sections": []
    },
    "kernelspec": {
      "name": "python3",
      "display_name": "Python 3"
    }
  },
  "cells": [
    {
      "cell_type": "markdown",
      "metadata": {
        "id": "pfZ_X8BfX6LV",
        "colab_type": "text"
      },
      "source": [
        "- https://gym.openai.com/\n",
        "- https://openai.com/blog/universe/\n",
        "\n",
        "- Pytorch参考, https://pytorch.org/tutorials/intermediate/reinforcement_q_learning.html\n",
        "- https://github.com/Finspire13/pytorch-policy-gradient-example/blob/master/pg.py\n",
        "- 一个博客, https://karpathy.github.io/2016/05/31/rl/"
      ]
    },
    {
      "cell_type": "markdown",
      "metadata": {
        "id": "_7KALq_u3WBh",
        "colab_type": "text"
      },
      "source": [
        "## 关于Gym的使用"
      ]
    },
    {
      "cell_type": "code",
      "metadata": {
        "id": "vP06BZP-4uqn",
        "colab_type": "code",
        "colab": {}
      },
      "source": [
        "#remove \" > /dev/null 2>&1\" to see what is going on under the hood\n",
        "!pip install gym pyvirtualdisplay > /dev/null 2>&1\n",
        "!apt-get install -y xvfb python-opengl ffmpeg > /dev/null 2>&1"
      ],
      "execution_count": 0,
      "outputs": []
    },
    {
      "cell_type": "code",
      "metadata": {
        "id": "fmEaxFJB4vun",
        "colab_type": "code",
        "outputId": "5e79c98c-8f3a-40bb-e2b9-32663ce13164",
        "colab": {
          "base_uri": "https://localhost:8080/",
          "height": 35
        }
      },
      "source": [
        "!apt-get update > /dev/null 2>&1\n",
        "!apt-get install cmake > /dev/null 2>&1\n",
        "!pip install --upgrade setuptools 2>&1\n",
        "!pip install ez_setup > /dev/null 2>&1\n",
        "!pip install gym[atari] > /dev/null 2>&1"
      ],
      "execution_count": 2,
      "outputs": [
        {
          "output_type": "stream",
          "text": [
            "Requirement already up-to-date: setuptools in /usr/local/lib/python3.6/dist-packages (46.1.3)\n"
          ],
          "name": "stdout"
        }
      ]
    },
    {
      "cell_type": "code",
      "metadata": {
        "id": "VkZnjJWB4x01",
        "colab_type": "code",
        "colab": {}
      },
      "source": [
        "import gym\n",
        "from gym import logger as gymlogger\n",
        "from gym.wrappers import Monitor\n",
        "gymlogger.set_level(40) #error only\n",
        "\n",
        "import numpy as np\n",
        "import random\n",
        "import matplotlib\n",
        "import matplotlib.pyplot as plt\n",
        "%matplotlib inline\n",
        "\n",
        "import math\n",
        "import glob\n",
        "import io\n",
        "import base64\n",
        "from IPython.display import HTML\n",
        "\n",
        "from IPython import display as ipythondisplay"
      ],
      "execution_count": 0,
      "outputs": []
    },
    {
      "cell_type": "code",
      "metadata": {
        "id": "pvxZ-3Q140KA",
        "colab_type": "code",
        "outputId": "6d5a6dc2-7fab-405e-85b2-2cb3c503755a",
        "colab": {
          "base_uri": "https://localhost:8080/",
          "height": 73
        }
      },
      "source": [
        "from pyvirtualdisplay import Display\n",
        "display = Display(visible=0, size=(1400, 900))\n",
        "display.start()"
      ],
      "execution_count": 4,
      "outputs": [
        {
          "output_type": "stream",
          "text": [
            "xdpyinfo was not found, X start can not be checked! Please install xdpyinfo!\n"
          ],
          "name": "stderr"
        },
        {
          "output_type": "execute_result",
          "data": {
            "text/plain": [
              "<Display cmd_param=['Xvfb', '-br', '-nolisten', 'tcp', '-screen', '0', '1400x900x24', ':1001'] cmd=['Xvfb', '-br', '-nolisten', 'tcp', '-screen', '0', '1400x900x24', ':1001'] oserror=None return_code=None stdout=\"None\" stderr=\"None\" timeout_happened=False>"
            ]
          },
          "metadata": {
            "tags": []
          },
          "execution_count": 4
        }
      ]
    },
    {
      "cell_type": "markdown",
      "metadata": {
        "id": "Gdn7vW-gzkAz",
        "colab_type": "text"
      },
      "source": [
        "## Gym简单测试"
      ]
    },
    {
      "cell_type": "code",
      "metadata": {
        "id": "uT6gMlHxzP7H",
        "colab_type": "code",
        "colab": {}
      },
      "source": [
        "import gym\n",
        "env = gym.make('CartPole-v0')\n",
        "env.reset()\n",
        "for _ in range(1000):\n",
        "    env.render()\n",
        "    env.step(env.action_space.sample()) # take a random action\n",
        "env.close()"
      ],
      "execution_count": 0,
      "outputs": []
    },
    {
      "cell_type": "code",
      "metadata": {
        "id": "sIqyjSBw8WHN",
        "colab_type": "code",
        "colab": {
          "base_uri": "https://localhost:8080/",
          "height": 35
        },
        "outputId": "a582dbff-c9e8-4bc5-941b-e3708e09667d"
      },
      "source": [
        "print(env.action_space)"
      ],
      "execution_count": 6,
      "outputs": [
        {
          "output_type": "stream",
          "text": [
            "Discrete(2)\n"
          ],
          "name": "stdout"
        }
      ]
    },
    {
      "cell_type": "code",
      "metadata": {
        "id": "K7lT98-z84Vz",
        "colab_type": "code",
        "colab": {
          "base_uri": "https://localhost:8080/",
          "height": 35
        },
        "outputId": "46d2d3fb-2916-4ee4-a5b6-f572ab289b4c"
      },
      "source": [
        "[env.action_space.sample() for i in range(10)]"
      ],
      "execution_count": 18,
      "outputs": [
        {
          "output_type": "execute_result",
          "data": {
            "text/plain": [
              "[0, 0, 1, 1, 0, 1, 0, 1, 1, 1]"
            ]
          },
          "metadata": {
            "tags": []
          },
          "execution_count": 18
        }
      ]
    },
    {
      "cell_type": "code",
      "metadata": {
        "id": "k3LqcvQ48iCw",
        "colab_type": "code",
        "colab": {
          "base_uri": "https://localhost:8080/",
          "height": 35
        },
        "outputId": "49ed7a47-689f-4b87-cb0c-f5e129f1660f"
      },
      "source": [
        "print(env.observation_space)"
      ],
      "execution_count": 7,
      "outputs": [
        {
          "output_type": "stream",
          "text": [
            "Box(4,)\n"
          ],
          "name": "stdout"
        }
      ]
    },
    {
      "cell_type": "code",
      "metadata": {
        "id": "3SEqLyxk9t8M",
        "colab_type": "code",
        "colab": {
          "base_uri": "https://localhost:8080/",
          "height": 35
        },
        "outputId": "472dce5c-edb7-498c-d4e9-84cf95f6b4a1"
      },
      "source": [
        "print(env.observation_space.high)"
      ],
      "execution_count": 19,
      "outputs": [
        {
          "output_type": "stream",
          "text": [
            "[4.8000002e+00 3.4028235e+38 4.1887903e-01 3.4028235e+38]\n"
          ],
          "name": "stdout"
        }
      ]
    },
    {
      "cell_type": "code",
      "metadata": {
        "id": "MP7YZ-J29u6K",
        "colab_type": "code",
        "colab": {
          "base_uri": "https://localhost:8080/",
          "height": 35
        },
        "outputId": "04cb69dc-f12e-4e7b-de69-64bfce2122b9"
      },
      "source": [
        "print(env.observation_space.low)"
      ],
      "execution_count": 20,
      "outputs": [
        {
          "output_type": "stream",
          "text": [
            "[-4.8000002e+00 -3.4028235e+38 -4.1887903e-01 -3.4028235e+38]\n"
          ],
          "name": "stdout"
        }
      ]
    },
    {
      "cell_type": "code",
      "metadata": {
        "id": "es3WExLH9wlZ",
        "colab_type": "code",
        "colab": {
          "base_uri": "https://localhost:8080/",
          "height": 35
        },
        "outputId": "944b0214-bf6c-456c-afd2-0f3f5e7c60af"
      },
      "source": [
        "[env.observation_space.bounded_above, env.observation_space.bounded_below]"
      ],
      "execution_count": 23,
      "outputs": [
        {
          "output_type": "execute_result",
          "data": {
            "text/plain": [
              "[array([ True,  True,  True,  True]), array([ True,  True,  True,  True])]"
            ]
          },
          "metadata": {
            "tags": []
          },
          "execution_count": 23
        }
      ]
    },
    {
      "cell_type": "markdown",
      "metadata": {
        "id": "6CgqL2d-ANG6",
        "colab_type": "text"
      },
      "source": [
        "## 使用Video的方式可视化"
      ]
    },
    {
      "cell_type": "code",
      "metadata": {
        "id": "Xa2VYVlcAPBn",
        "colab_type": "code",
        "colab": {}
      },
      "source": [
        "\"\"\"\n",
        "Utility functions to enable video recording of gym environment and displaying it\n",
        "To enable video, just do \"env = wrap_env(env)\"\"\n",
        "\"\"\"\n",
        "\n",
        "def show_video():\n",
        "  mp4list = glob.glob('video/*.mp4')\n",
        "  if len(mp4list) > 0:\n",
        "    mp4 = mp4list[0]\n",
        "    video = io.open(mp4, 'r+b').read()\n",
        "    encoded = base64.b64encode(video)\n",
        "    ipythondisplay.display(HTML(data='''<video alt=\"test\" autoplay \n",
        "                loop controls style=\"height: 400px;\">\n",
        "                <source src=\"data:video/mp4;base64,{0}\" type=\"video/mp4\" />\n",
        "             </video>'''.format(encoded.decode('ascii'))))\n",
        "  else: \n",
        "    print(\"Could not find video\")\n",
        "    \n",
        "\n",
        "def wrap_env(env):\n",
        "  env = Monitor(env, './video', force=True)\n",
        "  return env"
      ],
      "execution_count": 0,
      "outputs": []
    },
    {
      "cell_type": "code",
      "metadata": {
        "id": "Skp5loVPATIx",
        "colab_type": "code",
        "colab": {
          "base_uri": "https://localhost:8080/",
          "height": 420
        },
        "outputId": "67e8290d-93ff-41ee-be40-3e961eb2e80f"
      },
      "source": [
        "env = wrap_env(gym.make(\"CartPole-v0\"))\n",
        "\n",
        "observation = env.reset()\n",
        "\n",
        "while True:  \n",
        "    env.render()\n",
        "    \n",
        "    #your agent goes here\n",
        "    action = env.action_space.sample() \n",
        "    observation, reward, done, info = env.step(action) \n",
        "        \n",
        "    if done: \n",
        "      break;\n",
        "            \n",
        "env.close()\n",
        "show_video()"
      ],
      "execution_count": 25,
      "outputs": [
        {
          "output_type": "display_data",
          "data": {
            "text/html": [
              "<video alt=\"test\" autoplay \n",
              "                loop controls style=\"height: 400px;\">\n",
              "                <source src=\"data:video/mp4;base64,AAAAIGZ0eXBpc29tAAACAGlzb21pc28yYXZjMW1wNDEAAAAIZnJlZQAACm5tZGF0AAACrgYF//+q3EXpvebZSLeWLNgg2SPu73gyNjQgLSBjb3JlIDE1MiByMjg1NCBlOWE1OTAzIC0gSC4yNjQvTVBFRy00IEFWQyBjb2RlYyAtIENvcHlsZWZ0IDIwMDMtMjAxNyAtIGh0dHA6Ly93d3cudmlkZW9sYW4ub3JnL3gyNjQuaHRtbCAtIG9wdGlvbnM6IGNhYmFjPTEgcmVmPTMgZGVibG9jaz0xOjA6MCBhbmFseXNlPTB4MzoweDExMyBtZT1oZXggc3VibWU9NyBwc3k9MSBwc3lfcmQ9MS4wMDowLjAwIG1peGVkX3JlZj0xIG1lX3JhbmdlPTE2IGNocm9tYV9tZT0xIHRyZWxsaXM9MSA4eDhkY3Q9MSBjcW09MCBkZWFkem9uZT0yMSwxMSBmYXN0X3Bza2lwPTEgY2hyb21hX3FwX29mZnNldD0tMiB0aHJlYWRzPTMgbG9va2FoZWFkX3RocmVhZHM9MSBzbGljZWRfdGhyZWFkcz0wIG5yPTAgZGVjaW1hdGU9MSBpbnRlcmxhY2VkPTAgYmx1cmF5X2NvbXBhdD0wIGNvbnN0cmFpbmVkX2ludHJhPTAgYmZyYW1lcz0zIGJfcHlyYW1pZD0yIGJfYWRhcHQ9MSBiX2JpYXM9MCBkaXJlY3Q9MSB3ZWlnaHRiPTEgb3Blbl9nb3A9MCB3ZWlnaHRwPTIga2V5aW50PTI1MCBrZXlpbnRfbWluPTI1IHNjZW5lY3V0PTQwIGludHJhX3JlZnJlc2g9MCByY19sb29rYWhlYWQ9NDAgcmM9Y3JmIG1idHJlZT0xIGNyZj0yMy4wIHFjb21wPTAuNjAgcXBtaW49MCBxcG1heD02OSBxcHN0ZXA9NCBpcF9yYXRpbz0xLjQwIGFxPTE6MS4wMACAAAABgWWIhAAz//727L4FNf2f0JcRLMXaSnA+KqSAgHc0wAAAAwAAAwAAFgn0I7DkqgN3QAAAHGAFBCwCPCVC2EhH2Olf8H/BzKRoCKX8nMoxqB+D3rZ6auRqSAxVWFhcn8OhpaUgd6kJsTRKT7zw92kG7+HYINlAT1FUdM4wrOASJbPvppeC3Krc3KAjoUUx5dP+kfaj5x6Nlb9K+7Q/3ebtw61V1zGEJYx3Cx02gMGBR+N/YS31ZNynPfxwV+xc0WAm+cj2X71na6DjSO2sbFY576mlRyaszqbvwSRJ4Bk1BIhTT15EJCA0xKGqDEFY5OPf/wMVy+aqejVNU+GMHbyAjw6T/V4sfLSRkT04+W7P42mQkodIKwSJOtV6QzYYLa2xKlxXTQhpJRUduwPbxV1YBUJQ85t/fLJ9Ktg8Hk56pnFLD5x+WXExo8YCBzVqQkFMy6RjmTa9HqqTW0x2mBTAP9u/2Z4KbijAiZV9eMttujVXtqLFAr0vfQAAAwAAAwAAICEAAAB5QZokbEL//oywAABGCmxGAFfNIxVm2VQSFZDiBDhIv7xuvDwBLw1/2KrskQvOgxLUw/v6Q1E3vD1AZA6RC288vAbjiQgXXG+YL+qtuZvxTD1x0vt3ZLVAdPtibrcsGNXiVWOfIqUA+Fa2RoAAAARjrrSjp4uN6PM0PgAAADVBnkJ4hH8AABazSIve8PNQA244db44W5T5RwdoBu2fxl6up5Pha1+7AKQAAAMAA7uJs4QJmQAAADcBnmF0R/8AACPDO55nEBi3SQuAFxP6YTDfuYTISZVOPjYLNN1mUSKIHUQDQAAAAwAkiShllgf4AAAAJAGeY2pH/wAAI78azjtb7Y5sy3lEy0BBbW9CrAAAORghWcIG9QAAADRBmmhJqEFomUwIX//+jLAAAEYUcNHySfAE7vy9Gv+jlaj5D2zpCG1PjN9ixerhE3XAIIgRAAAAJkGehkURLCP/AAAWwJ9ktJJEAEyxUxBj86rHTZK7yJUMUrkVyd6BAAAAFwGepXRH/wAAI8M+DnW4dhxSREQjIoh5AAAAFgGep2pH/wAAI78azl8s3DUSe+vzQQ8AAACeQZqsSahBbJlMCF///oywAABGJRfTNd7AC3ic3sbH2tQKxVppuNOfVnsZHQO8c0J1AqNc/QLhzrpxbIrmRcS7Rhz0ubsuq6d1ELw8x+u42wXgxaEnh37dSXwmcqH+7aVjGGUx9AHUUKnjARmM5tbNnR6hnD7srXFCRYjbDDYcZdLzDMTgZ1HNot7q+BXljA10p0wlW/izcfXEvfXvBYUAAABJQZ7KRRUsI/8AABaqWFKoQ68ARDdqEyuPxTer//UJzqCrymoQytMbzK0hneUPFoHGEBr0HWXq42orA2vCRwarKoNK04XlWv/bMQAAACcBnul0R/8AACOp6xx1DjaddBWNMDSQas9Cg5vFKDD+p4XOYRdI2zAAAABAAZ7rakf/AAAN142mvgYedo2BlPnuVxHssTDi8GEiqCAfjPL2rP/EvT/mMAEtXAPCGQm6GR+27yB6/csysZX7ZgAAANZBmvBJqEFsmUwIT//98QAAAwKxRT4A5hyXQt1AYv6xwb74u+o2HqLREzqv/hTv7F4FlgQTAOAgWiI62uf0+7HYvU3Q8xFDr6NVBzfD2TCYPxmUZlqpE36/4yxUVTIPlJw3vAibKXn0xdxUdd5mQLJdRvUXn7TSPQ/jWCWUikdraoVjGJ74RYybASW5RYfCDmjDYTm9zzhFat8g6DKCekL/xleQYo1xPoNUeShY5ea3aAK4jwGLdXoM8JtzBxyanHsrlvo02bfwlENRnLY1DyLT28OT4AmrAAAAbUGfDkUVLCP/AAAXTBcHfnZCOQ+uYrghmG8p6UJzkKsvGPu9RqCEkJVrbFeumSZd/0e71PumCN92pW3/vMANcQpdQLz+IVy7QI/Y0T+TQB8WG5IT4GlJ/Ubh94XjQL6JSMLIIQDaWyYs/0BpnbkAAABRAZ8tdEf/AAAjkieaOu9ZAp/yKApeLwe//9b5PWrEDhS/1/iDOtW5dYc54kQEM6ntsc+foNtAAg6nA57T1qZi9m9mr+/JubTFtNBIqVl/crZhAAAAXAGfL2pH/wAAJL2BV+pR6ACMa7oGmYgZsa+FXsK25USnELpdONz7ZsEK2CB9K+Q2tRwUBKkvCdEKtxgUzpSMtziQklEsZHE/WrZW0WbDuIE0R4nihR/HptQQMuWzAAAAs0GbMkmoQWyZTBRMf/yEAAAQUjLp/XI42bTYU/hXqAAsvxfRU1TgMPJR/HehYLSNjQv0xtnLF9+Yp5X0Pn5kt5s0cqTvWIal2/cyPt2vP9SPqj2+rURzeJriqJEW5TJWDFxngjWn3Iah+Si908v25KjTLd9TlCO3Rfuqf5BvxwSgyVnoJOpq6I5SYxRrgQh4XZGFBgL2mqnBUocJBWIIySEmNS/HNn5h8NZ3cFpw41R4Y6+oAAAAZgGfUWpH/wAAJL2V+nwRqG0sXDe80dxFKUg5gTMJuqw3H/zUTqvdQuRpuE0+6N3Gq92QrWMy1eWnlXNmXUepdnS9zmk6oGYAEpSnoPEL/3Dwl6zZNPVsiPMwM+SsfPnx6PBuQQCd6QAAA/dtb292AAAAbG12aGQAAAAAAAAAAAAAAAAAAAPoAAABfAABAAABAAAAAAAAAAAAAAAAAQAAAAAAAAAAAAAAAAAAAAEAAAAAAAAAAAAAAAAAAEAAAAAAAAAAAAAAAAAAAAAAAAAAAAAAAAAAAAAAAAACAAADIXRyYWsAAABcdGtoZAAAAAMAAAAAAAAAAAAAAAEAAAAAAAABfAAAAAAAAAAAAAAAAAAAAAAAAQAAAAAAAAAAAAAAAAAAAAEAAAAAAAAAAAAAAAAAAEAAAAACWAAAAZAAAAAAACRlZHRzAAAAHGVsc3QAAAAAAAAAAQAAAXwAAAIAAAEAAAAAApltZGlhAAAAIG1kaGQAAAAAAAAAAAAAAAAAADIAAAATAFXEAAAAAAAtaGRscgAAAAAAAAAAdmlkZQAAAAAAAAAAAAAAAFZpZGVvSGFuZGxlcgAAAAJEbWluZgAAABR2bWhkAAAAAQAAAAAAAAAAAAAAJGRpbmYAAAAcZHJlZgAAAAAAAAABAAAADHVybCAAAAABAAACBHN0YmwAAACYc3RzZAAAAAAAAAABAAAAiGF2YzEAAAAAAAAAAQAAAAAAAAAAAAAAAAAAAAACWAGQAEgAAABIAAAAAAAAAAEAAAAAAAAAAAAAAAAAAAAAAAAAAAAAAAAAAAAAAAAAAAAY//8AAAAyYXZjQwFkAB//4QAZZ2QAH6zZQJgz5eEAAAMAAQAAAwBkDxgxlgEABmjr48siwAAAABhzdHRzAAAAAAAAAAEAAAATAAABAAAAABRzdHNzAAAAAAAAAAEAAAABAAAAqGN0dHMAAAAAAAAAEwAAAAEAAAIAAAAAAQAABQAAAAABAAACAAAAAAEAAAAAAAAAAQAAAQAAAAABAAAFAAAAAAEAAAIAAAAAAQAAAAAAAAABAAABAAAAAAEAAAUAAAAAAQAAAgAAAAABAAAAAAAAAAEAAAEAAAAAAQAABQAAAAABAAACAAAAAAEAAAAAAAAAAQAAAQAAAAABAAADAAAAAAEAAAEAAAAAHHN0c2MAAAAAAAAAAQAAAAEAAAATAAAAAQAAAGBzdHN6AAAAAAAAAAAAAAATAAAENwAAAH0AAAA5AAAAOwAAACgAAAA4AAAAKgAAABsAAAAaAAAAogAAAE0AAAArAAAARAAAANoAAABxAAAAVQAAAGAAAAC3AAAAagAAABRzdGNvAAAAAAAAAAEAAAAwAAAAYnVkdGEAAABabWV0YQAAAAAAAAAhaGRscgAAAAAAAAAAbWRpcmFwcGwAAAAAAAAAAAAAAAAtaWxzdAAAACWpdG9vAAAAHWRhdGEAAAABAAAAAExhdmY1Ny44My4xMDA=\" type=\"video/mp4\" />\n",
              "             </video>"
            ],
            "text/plain": [
              "<IPython.core.display.HTML object>"
            ]
          },
          "metadata": {
            "tags": []
          }
        }
      ]
    },
    {
      "cell_type": "markdown",
      "metadata": {
        "id": "4E2D8lTrz6EG",
        "colab_type": "text"
      },
      "source": [
        "## 可视化过程"
      ]
    },
    {
      "cell_type": "code",
      "metadata": {
        "id": "XEAB4seBbMFG",
        "colab_type": "code",
        "outputId": "019a628e-5f25-4961-ac79-3494e0f58753",
        "colab": {
          "base_uri": "https://localhost:8080/",
          "height": 317
        }
      },
      "source": [
        "env = gym.make('CartPole-v0') # 初始化场景\n",
        "\n",
        "env.reset() # 初始状态\n",
        "env.render(mode='rgb_array')\n",
        "t = 0\n",
        "# 随便动一步(初始状态)\n",
        "action = env.action_space.sample() \n",
        "state, _, done, _ = env.step(action)\n",
        "env.render(mode='rgb_array')\n",
        "\n",
        "\n",
        "# 绘图\n",
        "plt.figure()\n",
        "plt.clf()\n",
        "plt.title('Example extracted screen')\n",
        "\n",
        "while True:\n",
        "    action = env.action_space.sample() \n",
        "    # 往后走一步\n",
        "    state, _, done, _ = env.step(action)\n",
        "    # 生成走后的场景\n",
        "    current_screen = env.render(mode='rgb_array') # 返回现在的图像, 用于可视化\n",
        "    # 绘制画面\n",
        "    plt.pause(0.7)  # pause a bit so that plots are updated\n",
        "    ipythondisplay.clear_output(wait=True)\n",
        "    ipythondisplay.display(plt.gcf())\n",
        "    plt.title('Action: {}'.format(action))\n",
        "    plt.imshow(current_screen, interpolation='none')\n",
        "\n",
        "    t = t + 1\n",
        "\n",
        "    if done:\n",
        "        break\n",
        "    \n",
        "    if t>100:\n",
        "        break\n",
        "\n",
        "plt.show()\n",
        "\n",
        "env.close()\n",
        "print(t)"
      ],
      "execution_count": 27,
      "outputs": [
        {
          "output_type": "display_data",
          "data": {
            "text/plain": [
              "<Figure size 432x288 with 0 Axes>"
            ]
          },
          "metadata": {
            "tags": []
          }
        },
        {
          "output_type": "display_data",
          "data": {
            "image/png": "[encoded data removed]",
            "text/plain": [
              "<Figure size 432x288 with 1 Axes>"
            ]
          },
          "metadata": {
            "tags": [],
            "needs_background": "light"
          }
        },
        {
          "output_type": "stream",
          "text": [
            "19\n"
          ],
          "name": "stdout"
        }
      ]
    },
    {
      "cell_type": "code",
      "metadata": {
        "id": "Ez_u3YHUFdo6",
        "colab_type": "code",
        "colab": {}
      },
      "source": [
        ""
      ],
      "execution_count": 0,
      "outputs": []
    }
  ]
}