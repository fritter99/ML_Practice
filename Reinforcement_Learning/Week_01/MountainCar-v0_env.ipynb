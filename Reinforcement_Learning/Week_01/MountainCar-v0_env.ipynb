{
 "cells": [
  {
   "cell_type": "markdown",
   "metadata": {},
   "source": [
    "## Mountain Car 环境说明\n",
    "\n",
    "- action 与 observation 介绍\n",
    "- 一个简单的 policy, 使得车辆到达终点"
   ]
  },
  {
   "cell_type": "code",
   "execution_count": 1,
   "metadata": {},
   "outputs": [],
   "source": [
    "import gym"
   ]
  },
  {
   "cell_type": "code",
   "execution_count": 2,
   "metadata": {},
   "outputs": [
    {
     "name": "stdout",
     "output_type": "stream",
     "text": [
      "position:-0.43944188952445984 velocity: 0.0\n"
     ]
    }
   ],
   "source": [
    "# 初始环境\n",
    "env = gym.make(\"MountainCar-v0\")\n",
    "obs = env.reset()\n",
    "print('position:{} velocity: {}'.format(obs[0], obs[1]))"
   ]
  },
  {
   "cell_type": "markdown",
   "metadata": {},
   "source": [
    "### 查看 action 与 obs 的值"
   ]
  },
  {
   "cell_type": "code",
   "execution_count": 3,
   "metadata": {},
   "outputs": [
    {
     "name": "stdout",
     "output_type": "stream",
     "text": [
      "Discrete(3)\n"
     ]
    }
   ],
   "source": [
    "# 查看 action space\n",
    "print(env.action_space)"
   ]
  },
  {
   "cell_type": "code",
   "execution_count": 4,
   "metadata": {},
   "outputs": [
    {
     "name": "stdout",
     "output_type": "stream",
     "text": [
      "Box([-1.2  -0.07], [0.6  0.07], (2,), float32)\n"
     ]
    }
   ],
   "source": [
    "# 查看 observation space\n",
    "print(env.observation_space)"
   ]
  },
  {
   "cell_type": "markdown",
   "metadata": {},
   "source": [
    "### 一个简单的策略"
   ]
  },
  {
   "cell_type": "code",
   "execution_count": 10,
   "metadata": {},
   "outputs": [],
   "source": [
    "def policy(obs, t):\n",
    "    actions = {'left': 0, 'stop': 1, 'right': 2}\n",
    "    position, velocity = obs\n",
    "    # 相当于可以左右运动, 利用惯性使得车辆向上移动\n",
    "    \n",
    "    if velocity>=0: # velocity>=0 表示车辆正在向右移动\n",
    "        if (position>-0.5) and (abs(velocity)<0.01): # 当到达右侧一定位置无法向右时, 则向左\n",
    "            return actions['left']\n",
    "        else:\n",
    "            return actions['right']\n",
    "    elif velocity<0: # velocity<0 表示车辆正在向左移动\n",
    "        if (position<-0.7) and (abs(velocity)<0.01): # 当到达左侧一定位置无法向左时, 则向右\n",
    "            return actions['right']\n",
    "        else:\n",
    "            return actions['left']"
   ]
  },
  {
   "cell_type": "code",
   "execution_count": 12,
   "metadata": {},
   "outputs": [
    {
     "name": "stdout",
     "output_type": "stream",
     "text": [
      "Well done!\n"
     ]
    }
   ],
   "source": [
    "obs = env.reset()\n",
    "TIME_LIMIT = 200\n",
    "for t in range(TIME_LIMIT):\n",
    "    \n",
    "    action = policy(obs, t)  # Call your policy\n",
    "    obs, reward, done, _ = env.step(action)  # Pass the action chosen by the policy to the environment\n",
    "\n",
    "    env.render()\n",
    "\n",
    "    if done:\n",
    "        print(\"Well done!\")\n",
    "        break\n",
    "else:\n",
    "    print(\"Time limit exceeded. Try again.\")"
   ]
  }
 ],
 "metadata": {
  "interpreter": {
   "hash": "f790ba2b5dde6334bb37878331dacb46762507c8917d4e726ddd40ac27e381a5"
  },
  "kernelspec": {
   "display_name": "Python 3.8.10 64-bit ('traffic-env': venv)",
   "name": "python3"
  },
  "language_info": {
   "codemirror_mode": {
    "name": "ipython",
    "version": 3
   },
   "file_extension": ".py",
   "mimetype": "text/x-python",
   "name": "python",
   "nbconvert_exporter": "python",
   "pygments_lexer": "ipython3",
   "version": "3.8.10"
  },
  "orig_nbformat": 4
 },
 "nbformat": 4,
 "nbformat_minor": 2
}
