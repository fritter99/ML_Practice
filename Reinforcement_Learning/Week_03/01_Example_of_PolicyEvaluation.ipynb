{
  "nbformat": 4,
  "nbformat_minor": 0,
  "metadata": {
    "colab": {
      "name": "01_Example_of_PolicyEvaluation.ipynb",
      "provenance": [],
      "collapsed_sections": []
    },
    "kernelspec": {
      "name": "python3",
      "display_name": "Python 3"
    }
  },
  "cells": [
    {
      "cell_type": "code",
      "metadata": {
        "id": "LGQHtePDX6MQ",
        "colab_type": "code",
        "colab": {}
      },
      "source": [
        "import gym\n",
        "import numpy as np\n",
        "\n",
        "import matplotlib.pyplot as plt\n",
        "%matplotlib inline"
      ],
      "execution_count": 0,
      "outputs": []
    },
    {
      "cell_type": "markdown",
      "metadata": {
        "id": "UXMontTjXi3k",
        "colab_type": "text"
      },
      "source": [
        "## Policy Evaluation"
      ]
    },
    {
      "cell_type": "code",
      "metadata": {
        "id": "EHkdePu9XTdW",
        "colab_type": "code",
        "colab": {}
      },
      "source": [
        "environment = gym.make('FrozenLake-v0')"
      ],
      "execution_count": 0,
      "outputs": []
    },
    {
      "cell_type": "code",
      "metadata": {
        "id": "ysMPd8qUh_5f",
        "colab_type": "code",
        "outputId": "2f217c52-1696-4800-efff-d0f65efca235",
        "colab": {
          "base_uri": "https://localhost:8080/",
          "height": 107
        }
      },
      "source": [
        "# 打印环境\n",
        "environment.render()"
      ],
      "execution_count": 3,
      "outputs": [
        {
          "output_type": "stream",
          "text": [
            "\n",
            "\u001b[41mS\u001b[0mFFF\n",
            "FHFH\n",
            "FFFH\n",
            "HFFG\n"
          ],
          "name": "stdout"
        }
      ]
    },
    {
      "cell_type": "code",
      "metadata": {
        "id": "CgM6DFbHAmbn",
        "colab_type": "code",
        "outputId": "ba1fd524-256a-49a7-ce5b-f81448f5b3dc",
        "colab": {
          "base_uri": "https://localhost:8080/",
          "height": 71
        }
      },
      "source": [
        "# 查看从一个state到new state的概率\n",
        "# 从state=6开始(也就是从起点开始), 进行action=1(向下走), 会有可能向左或右走.\n",
        "# LEFT = 0, DOWN = 1, RIGHT = 2, UP = 3\n",
        "\n",
        "state = 6\n",
        "action = 1\n",
        "environment.P[state][action]"
      ],
      "execution_count": 4,
      "outputs": [
        {
          "output_type": "execute_result",
          "data": {
            "text/plain": [
              "[(0.3333333333333333, 5, 0.0, True),\n",
              " (0.3333333333333333, 10, 0.0, False),\n",
              " (0.3333333333333333, 7, 0.0, True)]"
            ]
          },
          "metadata": {
            "tags": []
          },
          "execution_count": 4
        }
      ]
    },
    {
      "cell_type": "code",
      "metadata": {
        "id": "g797brnRYQfr",
        "colab_type": "code",
        "outputId": "961f7e5b-f9a7-4d16-979f-da12b92cea5a",
        "colab": {
          "base_uri": "https://localhost:8080/",
          "height": 305
        }
      },
      "source": [
        "# 我们就随机给定一个policy, 向每一个方向走都是0.25的概率\n",
        "policy = np.ones((environment.nS, environment.nA)) / environment.nA\n",
        "policy"
      ],
      "execution_count": 5,
      "outputs": [
        {
          "output_type": "execute_result",
          "data": {
            "text/plain": [
              "array([[0.25, 0.25, 0.25, 0.25],\n",
              "       [0.25, 0.25, 0.25, 0.25],\n",
              "       [0.25, 0.25, 0.25, 0.25],\n",
              "       [0.25, 0.25, 0.25, 0.25],\n",
              "       [0.25, 0.25, 0.25, 0.25],\n",
              "       [0.25, 0.25, 0.25, 0.25],\n",
              "       [0.25, 0.25, 0.25, 0.25],\n",
              "       [0.25, 0.25, 0.25, 0.25],\n",
              "       [0.25, 0.25, 0.25, 0.25],\n",
              "       [0.25, 0.25, 0.25, 0.25],\n",
              "       [0.25, 0.25, 0.25, 0.25],\n",
              "       [0.25, 0.25, 0.25, 0.25],\n",
              "       [0.25, 0.25, 0.25, 0.25],\n",
              "       [0.25, 0.25, 0.25, 0.25],\n",
              "       [0.25, 0.25, 0.25, 0.25],\n",
              "       [0.25, 0.25, 0.25, 0.25]])"
            ]
          },
          "metadata": {
            "tags": []
          },
          "execution_count": 5
        }
      ]
    },
    {
      "cell_type": "code",
      "metadata": {
        "id": "p_xVTjyoYRwW",
        "colab_type": "code",
        "colab": {}
      },
      "source": [
        "def policy_evaluation(policy, environment, discount_factor=0.9, theta=1e-9, max_iterations=1000):\n",
        "    \"\"\"\n",
        "    Evaluate a policy given a deterministic environment.\n",
        "\n",
        "    PARAMETERS\n",
        "    ----------\n",
        "    policy: nS*nA的矩阵, 每一个值代表在这个state采取action的概率\n",
        "    environment: gym提供的环境\n",
        "    discount_factor: 折扣因子\n",
        "    theta: 判断是否收敛, 如果value function里面的值改变较小, 则停止迭代\n",
        "    max_iterations: 最大迭代次数\n",
        "                    \n",
        "    RETURNS\n",
        "    -------\n",
        "    V: 这个policy对应的value function\n",
        "    \"\"\"\n",
        "    # 记录迭代次数\n",
        "    evaluation_iterations = 1\n",
        "    vList = [0] # 记录每次迭代前后v平均值的变化\n",
        "\n",
        "    # 初始化value function向量, 也就是每个state到游戏结束可能获得的累计reward\n",
        "    V = np.zeros(environment.nS)\n",
        "\n",
        "    for i in range(int(max_iterations)):\n",
        "        # 记录两次迭代value function改变的值, 用来判断是否收敛\n",
        "        delta = 0\n",
        "        \n",
        "        for state in range(environment.nS): # 对所有的状态进行遍历\t\t\t\n",
        "            # 记录当前state的value\n",
        "            v = 0\n",
        "            \n",
        "            # 当前state下所有能做的action和做的概率\n",
        "            for action, action_probability in enumerate(policy[state]):\n",
        "                # 采取相应的action之后, 下一步的新的state出现的概率\n",
        "                for state_probability, next_state, reward, terminated in environment.P[state][action]:\n",
        "                    # 这里修改一下原始reward的值, 每走一步reward减一, 终点reward是10\n",
        "                    if reward == 0:\n",
        "                        reward = reward - 1 # 每走一步reward都是-1\n",
        "                    elif reward == 1:\n",
        "                        reward = 10\n",
        "                    # 计算value值\n",
        "                    v += action_probability * state_probability * (reward + discount_factor * V[next_state])\n",
        "\n",
        "                \n",
        "            # 保存一个更新前后最大的差距\n",
        "            delta = max(delta, abs(V[state] - v))\n",
        "            \n",
        "            # 更新state value\n",
        "            V[state] = v\n",
        "        \n",
        "        # 计算前后差值, 用来绘图\n",
        "        vList.append(np.abs(np.mean(V)))\n",
        "        \n",
        "        # 更新迭代次数\n",
        "        evaluation_iterations += 1\n",
        "\n",
        "        # 打印迭代10和20次后的value值\n",
        "        if evaluation_iterations in [10, 20]:\n",
        "            print('Evaluation iterations:{}'.format(evaluation_iterations))\n",
        "            print(V.reshape(4,4))\n",
        "        # 若收敛, 则早停止\n",
        "        if(delta < theta):\n",
        "            print('Policy evaluated in %d iterations' % evaluation_iterations)\n",
        "            vdeltaList = np.array(vList[1:]) - np.array(vList[:-1])\n",
        "            return V, vdeltaList\n",
        "    \n",
        "    vdeltaList = np.array(vList[1:]) - np.array(vList[:-1])\n",
        "    return V, vdeltaList"
      ],
      "execution_count": 0,
      "outputs": []
    },
    {
      "cell_type": "code",
      "metadata": {
        "id": "szDGoxAjfwQX",
        "colab_type": "code",
        "outputId": "cd7c7664-d882-41d5-a286-633fdce067bf",
        "colab": {
          "base_uri": "https://localhost:8080/",
          "height": 287
        }
      },
      "source": [
        "V, vdeltaList = policy_evaluation(policy=policy, environment=environment)\n",
        "print(V.reshape(4,4))"
      ],
      "execution_count": 7,
      "outputs": [
        {
          "output_type": "stream",
          "text": [
            "Evaluation iterations:10\n",
            "[[-6.4507704  -6.49730403 -6.56394722 -6.51457622]\n",
            " [-6.43929532 -6.12579511 -6.30160344 -6.12579511]\n",
            " [-6.36727564 -6.09779259 -5.54196666 -6.12579511]\n",
            " [-6.12579511 -5.34285003 -2.45118631 -6.12579511]]\n",
            "Evaluation iterations:20\n",
            "[[-8.74838238 -8.75837677 -8.73701108 -8.76067403]\n",
            " [-8.7174594  -8.64914828 -8.5234858  -8.64914828]\n",
            " [-8.60194468 -8.22714016 -7.6795972  -8.64914828]\n",
            " [-8.64914828 -7.44191556 -4.56304673 -8.64914828]]\n",
            "Policy evaluated in 199 iterations\n",
            "[[-9.95075012 -9.95355297 -9.88926567 -9.95469959]\n",
            " [-9.92605845 -9.99999999 -9.7103292  -9.99999999]\n",
            " [-9.79456232 -9.3663229  -8.82330857 -9.99999999]\n",
            " [-9.99999999 -8.56578645 -5.69360823 -9.99999999]]\n"
          ],
          "name": "stdout"
        }
      ]
    },
    {
      "cell_type": "code",
      "metadata": {
        "id": "pDTEUtgDhayB",
        "colab_type": "code",
        "outputId": "766120be-32dc-4bcf-f546-2565c7f1021e",
        "colab": {
          "base_uri": "https://localhost:8080/",
          "height": 265
        }
      },
      "source": [
        "# V的值的变化趋势\n",
        "fig = plt.figure()\n",
        "ax = fig.add_subplot(1,1,1)\n",
        "\n",
        "\n",
        "ax.plot(vdeltaList)\n",
        "\n",
        "fig.show()"
      ],
      "execution_count": 8,
      "outputs": [
        {
          "output_type": "display_data",
          "data": {
            "image/png": "[encoded data removed]",
            "text/plain": [
              "<Figure size 432x288 with 1 Axes>"
            ]
          },
          "metadata": {
            "tags": [],
            "needs_background": "light"
          }
        }
      ]
    },
    {
      "cell_type": "code",
      "metadata": {
        "id": "dVPssjslmUdA",
        "colab_type": "code",
        "colab": {}
      },
      "source": [
        ""
      ],
      "execution_count": 0,
      "outputs": []
    }
  ]
}