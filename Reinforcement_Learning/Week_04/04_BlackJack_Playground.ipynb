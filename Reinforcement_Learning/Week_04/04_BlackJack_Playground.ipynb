{
  "nbformat": 4,
  "nbformat_minor": 0,
  "metadata": {
    "colab": {
      "name": "02_DynamicProgram.ipynb",
      "provenance": [],
      "collapsed_sections": []
    },
    "kernelspec": {
      "name": "python3",
      "display_name": "Python 3"
    }
  },
  "cells": [
    {
      "cell_type": "code",
      "metadata": {
        "id": "uuxjqh_ZBU62",
        "colab_type": "code",
        "colab": {
          "base_uri": "https://localhost:8080/",
          "height": 127
        },
        "outputId": "1737bb62-d11a-4fa7-b562-1ab053506337"
      },
      "source": [
        "from google.colab import drive\n",
        "drive.mount('/content/drive')"
      ],
      "execution_count": 1,
      "outputs": [
        {
          "output_type": "stream",
          "text": [
            "Go to this URL in a browser: https://accounts.google.com/o/oauth2/auth?client_id=947318989803-6bn6qk8qdgf4n4g3pfee6491hc0brc4i.apps.googleusercontent.com&redirect_uri=urn%3aietf%3awg%3aoauth%3a2.0%3aoob&response_type=code&scope=email%20https%3a%2f%2fwww.googleapis.com%2fauth%2fdocs.test%20https%3a%2f%2fwww.googleapis.com%2fauth%2fdrive%20https%3a%2f%2fwww.googleapis.com%2fauth%2fdrive.photos.readonly%20https%3a%2f%2fwww.googleapis.com%2fauth%2fpeopleapi.readonly\n",
            "\n",
            "Enter your authorization code:\n",
            "··········\n",
            "Mounted at /content/drive\n"
          ],
          "name": "stdout"
        }
      ]
    },
    {
      "cell_type": "code",
      "metadata": {
        "id": "u7uoNFqvBjMH",
        "colab_type": "code",
        "colab": {}
      },
      "source": [
        "import sys\n",
        "if \"/content/drive/My Drive/Machine Learning/lib/\" not in sys.path:\n",
        "    sys.path.append(\"/content/drive/My Drive/Machine Learning/lib/\") "
      ],
      "execution_count": 0,
      "outputs": []
    },
    {
      "cell_type": "code",
      "metadata": {
        "id": "mh7A12hUBfAe",
        "colab_type": "code",
        "colab": {}
      },
      "source": [
        "from envs.blackjack import BlackjackEnv\n",
        "\n",
        "import gym\n",
        "import numpy as np\n",
        "\n",
        "import matplotlib.pyplot as plt\n",
        "%matplotlib inline"
      ],
      "execution_count": 0,
      "outputs": []
    },
    {
      "cell_type": "markdown",
      "metadata": {
        "id": "Tcq--EM1S4zx",
        "colab_type": "text"
      },
      "source": [
        "## 熟悉Blackjack的环境\n",
        "\n",
        "Blackjack又叫21点.\n",
        "\n",
        "在这个环境中, observation由一个三元组构成. \n",
        "- the players current sum (目前手上牌的总和)\n",
        "- the dealer's one showing card (1-10 where 1 is ace) (对手牌面的牌)\n",
        "- whether or not the player holds a usable ace (0 or 1) (自己手上是否有A, 这个牌可以当做1或是11)\n",
        "\n",
        "在这个环境中, 有两种action\n",
        "- request additional cards (hit=1), 1表示要牌\n",
        "- stop (stick=0), 0表示不要牌\n",
        "\n",
        "在这个环境中, reward如下:\n",
        "- 获得胜利, reward=1\n",
        "- 平局, reward=0\n",
        "- 输掉比赛(或是超过21点), reward=-1"
      ]
    },
    {
      "cell_type": "markdown",
      "metadata": {
        "id": "UXMontTjXi3k",
        "colab_type": "text"
      },
      "source": [
        "### 初始化环境"
      ]
    },
    {
      "cell_type": "code",
      "metadata": {
        "id": "EHkdePu9XTdW",
        "colab_type": "code",
        "colab": {}
      },
      "source": [
        "environment = BlackjackEnv()"
      ],
      "execution_count": 0,
      "outputs": []
    },
    {
      "cell_type": "code",
      "metadata": {
        "id": "RWY-0xr0EX6l",
        "colab_type": "code",
        "colab": {
          "base_uri": "https://localhost:8080/",
          "height": 35
        },
        "outputId": "dd80e6a3-75b2-425f-e0cb-429fe0c97d47"
      },
      "source": [
        "# 有三个空间, 分别就是上面介绍的三元组\n",
        "observation_space = environment.observation_space.spaces\n",
        "observation_space"
      ],
      "execution_count": 16,
      "outputs": [
        {
          "output_type": "execute_result",
          "data": {
            "text/plain": [
              "(Discrete(32), Discrete(11), Discrete(2))"
            ]
          },
          "metadata": {
            "tags": []
          },
          "execution_count": 16
        }
      ]
    },
    {
      "cell_type": "code",
      "metadata": {
        "id": "XEd9v1VIFWuY",
        "colab_type": "code",
        "colab": {
          "base_uri": "https://localhost:8080/",
          "height": 35
        },
        "outputId": "0234eb51-207e-4102-8312-d806d10334f6"
      },
      "source": [
        "observation = environment._reset()\n",
        "action = 0\n",
        "observation, reward, done, info = environment._step(action)\n",
        "print(observation, reward, done, info)\n",
        "environment.close()"
      ],
      "execution_count": 26,
      "outputs": [
        {
          "output_type": "stream",
          "text": [
            "(12, 10, False) -1 True {}\n"
          ],
          "name": "stdout"
        }
      ]
    },
    {
      "cell_type": "markdown",
      "metadata": {
        "id": "07N6RjmOFcuc",
        "colab_type": "text"
      },
      "source": [
        "### 定义一个policy\n",
        "\n",
        "在这里我们定义一个policy为了方便对这个环境的了解. \n",
        "\n",
        "这个policy就是当我们手上牌的总和>20就不要牌, 否则就要牌. "
      ]
    },
    {
      "cell_type": "code",
      "metadata": {
        "id": "AzVKggTMGQhb",
        "colab_type": "code",
        "colab": {}
      },
      "source": [
        "def strategy(observation):\n",
        "    score, dealer_score, usable_ace = observation\n",
        "    if score >= 20:\n",
        "        return 0\n",
        "    else:\n",
        "        return 1"
      ],
      "execution_count": 0,
      "outputs": []
    },
    {
      "cell_type": "markdown",
      "metadata": {
        "id": "cztRXVArYcb_",
        "colab_type": "text"
      },
      "source": [
        "### 使用上面的policy尝试对局"
      ]
    },
    {
      "cell_type": "code",
      "metadata": {
        "id": "EOwmE9phNAUI",
        "colab_type": "code",
        "colab": {}
      },
      "source": [
        "def print_observation(observation):\n",
        "    score, dealer_score, usable_ace = observation\n",
        "    print(\"Player Score: {} (Usable Ace: {}), Dealer Score: {}\".format(score, usable_ace, dealer_score))"
      ],
      "execution_count": 0,
      "outputs": []
    },
    {
      "cell_type": "code",
      "metadata": {
        "id": "KY20vmNwmTDM",
        "colab_type": "code",
        "colab": {
          "base_uri": "https://localhost:8080/",
          "height": 755
        },
        "outputId": "4055756e-368a-4b01-a0cb-7a4766ddbbf4"
      },
      "source": [
        "for i_episode in range(7):\n",
        "    observation = environment._reset()\n",
        "    for t in range(100):\n",
        "        print_observation(observation)\n",
        "        action = strategy(observation) # 采取的措施\n",
        "        print(\"Taking action: {}\".format( [\"Stick(不要)\", \"Hit(要)\"][action]))\n",
        "        observation, reward, done, _ = environment._step(action) # 环境的反馈\n",
        "        if done: # 判断是否结束\n",
        "            print_observation(observation)\n",
        "            if reward == 1:\n",
        "                result = 'Win'\n",
        "            elif reward == 0:\n",
        "                result = 'Draw'\n",
        "            else:\n",
        "                result = 'Loss'\n",
        "            print(\"Game end. Reward: {}, Result:{}\\n\".format(float(reward), result))\n",
        "            break"
      ],
      "execution_count": 32,
      "outputs": [
        {
          "output_type": "stream",
          "text": [
            "Player Score: 12 (Usable Ace: False), Dealer Score: 1\n",
            "Taking action: Hit(要)\n",
            "Player Score: 18 (Usable Ace: False), Dealer Score: 1\n",
            "Taking action: Hit(要)\n",
            "Player Score: 28 (Usable Ace: False), Dealer Score: 1\n",
            "Game end. Reward: -1.0, Result:Loss\n",
            "\n",
            "Player Score: 13 (Usable Ace: False), Dealer Score: 8\n",
            "Taking action: Hit(要)\n",
            "Player Score: 23 (Usable Ace: False), Dealer Score: 8\n",
            "Game end. Reward: -1.0, Result:Loss\n",
            "\n",
            "Player Score: 16 (Usable Ace: False), Dealer Score: 8\n",
            "Taking action: Hit(要)\n",
            "Player Score: 24 (Usable Ace: False), Dealer Score: 8\n",
            "Game end. Reward: -1.0, Result:Loss\n",
            "\n",
            "Player Score: 12 (Usable Ace: False), Dealer Score: 7\n",
            "Taking action: Hit(要)\n",
            "Player Score: 22 (Usable Ace: False), Dealer Score: 7\n",
            "Game end. Reward: -1.0, Result:Loss\n",
            "\n",
            "Player Score: 13 (Usable Ace: False), Dealer Score: 6\n",
            "Taking action: Hit(要)\n",
            "Player Score: 22 (Usable Ace: False), Dealer Score: 6\n",
            "Game end. Reward: -1.0, Result:Loss\n",
            "\n",
            "Player Score: 13 (Usable Ace: False), Dealer Score: 6\n",
            "Taking action: Hit(要)\n",
            "Player Score: 14 (Usable Ace: False), Dealer Score: 6\n",
            "Taking action: Hit(要)\n",
            "Player Score: 16 (Usable Ace: False), Dealer Score: 6\n",
            "Taking action: Hit(要)\n",
            "Player Score: 25 (Usable Ace: False), Dealer Score: 6\n",
            "Game end. Reward: -1.0, Result:Loss\n",
            "\n",
            "Player Score: 15 (Usable Ace: False), Dealer Score: 10\n",
            "Taking action: Hit(要)\n",
            "Player Score: 25 (Usable Ace: False), Dealer Score: 10\n",
            "Game end. Reward: -1.0, Result:Loss\n",
            "\n"
          ],
          "name": "stdout"
        }
      ]
    },
    {
      "cell_type": "code",
      "metadata": {
        "id": "1o7Vc1SEN3g9",
        "colab_type": "code",
        "colab": {}
      },
      "source": [
        ""
      ],
      "execution_count": 0,
      "outputs": []
    }
  ]
}