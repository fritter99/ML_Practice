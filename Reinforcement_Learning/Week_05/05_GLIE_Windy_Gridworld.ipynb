{
  "nbformat": 4,
  "nbformat_minor": 0,
  "metadata": {
    "colab": {
      "name": "02_DynamicProgram.ipynb",
      "provenance": [],
      "collapsed_sections": []
    },
    "kernelspec": {
      "name": "python3",
      "display_name": "Python 3"
    }
  },
  "cells": [
    {
      "cell_type": "code",
      "metadata": {
        "id": "uuxjqh_ZBU62",
        "colab_type": "code",
        "outputId": "75caf3a6-454d-45e5-c1e8-d76369e8d157",
        "colab": {
          "base_uri": "https://localhost:8080/",
          "height": 35
        }
      },
      "source": [
        "from google.colab import drive\n",
        "drive.mount('/content/drive')"
      ],
      "execution_count": 3,
      "outputs": [
        {
          "output_type": "stream",
          "text": [
            "Drive already mounted at /content/drive; to attempt to forcibly remount, call drive.mount(\"/content/drive\", force_remount=True).\n"
          ],
          "name": "stdout"
        }
      ]
    },
    {
      "cell_type": "code",
      "metadata": {
        "id": "u7uoNFqvBjMH",
        "colab_type": "code",
        "colab": {}
      },
      "source": [
        "import sys\n",
        "if \"/content/drive/My Drive/Machine Learning/lib/\" not in sys.path:\n",
        "    sys.path.append(\"/content/drive/My Drive/Machine Learning/lib/\") "
      ],
      "execution_count": 0,
      "outputs": []
    },
    {
      "cell_type": "code",
      "metadata": {
        "id": "mh7A12hUBfAe",
        "colab_type": "code",
        "colab": {}
      },
      "source": [
        "from envs.windy_gridworld import WindyGridworldEnv\n",
        "import plotting\n",
        "\n",
        "import gym\n",
        "import numpy as np\n",
        "import itertools\n",
        "from collections import defaultdict\n",
        "\n",
        "import matplotlib.pyplot as plt\n",
        "%matplotlib inline"
      ],
      "execution_count": 0,
      "outputs": []
    },
    {
      "cell_type": "markdown",
      "metadata": {
        "id": "Tcq--EM1S4zx",
        "colab_type": "text"
      },
      "source": [
        "## Sarsa方法\n",
        "    "
      ]
    },
    {
      "cell_type": "markdown",
      "metadata": {
        "id": "UXMontTjXi3k",
        "colab_type": "text"
      },
      "source": [
        "### 初始化环境"
      ]
    },
    {
      "cell_type": "code",
      "metadata": {
        "id": "EHkdePu9XTdW",
        "colab_type": "code",
        "colab": {}
      },
      "source": [
        "environment = WindyGridworldEnv()"
      ],
      "execution_count": 0,
      "outputs": []
    },
    {
      "cell_type": "code",
      "metadata": {
        "id": "lIsNr6gOhMUP",
        "colab_type": "code",
        "outputId": "82f65081-84c7-4a73-aa0f-70c08dcef1ce",
        "colab": {
          "base_uri": "https://localhost:8080/",
          "height": 35
        }
      },
      "source": [
        "# 这个环境中可能动作的个数\n",
        "nA = environment.action_space.n\n",
        "print(nA)"
      ],
      "execution_count": 6,
      "outputs": [
        {
          "output_type": "stream",
          "text": [
            "4\n"
          ],
          "name": "stdout"
        }
      ]
    },
    {
      "cell_type": "markdown",
      "metadata": {
        "id": "07N6RjmOFcuc",
        "colab_type": "text"
      },
      "source": [
        "### 创建epsilon-greedy policy\n",
        "\n",
        "$$\n",
        "\\pi(a|s)=\n",
        "\\left\\{\n",
        "    \\begin{aligned}\n",
        "        & \\frac{\\epsilon}{m}+1-\\epsilon \\quad if \\; a*=argmax_{a \\in A}(q(s,a)) \\\\\n",
        "        & \\frac{\\epsilon}{m} \\quad otherwise\n",
        "    \\end{aligned}\n",
        "\\right.\n",
        "$$"
      ]
    },
    {
      "cell_type": "code",
      "metadata": {
        "id": "AzVKggTMGQhb",
        "colab_type": "code",
        "colab": {}
      },
      "source": [
        "def make_epsilon_greedy_policy(Q, epsilon, nA):\n",
        "    \"\"\"\n",
        "    Creates an epsilon-greedy policy based on a given Q-function and epsilon.\n",
        "    Args:\n",
        "        Q: A dictionary that maps from state -> action-values.\n",
        "            Each value is a numpy array of length nA (see below)\n",
        "        epsilon: 采取一个随机动作的概率.\n",
        "        nA: 一个环境中可以采取的动作的个数(此时动作为离散的).\n",
        "        times: 迭代的次数\n",
        "    Returns:\n",
        "        返回的是每一个动作出现的概率.\n",
        "    \n",
        "    \"\"\"\n",
        "    \n",
        "    def policy_fn(observation):\n",
        "        # 看到这个state之后, 采取不同action获得的累计奖励\n",
        "        action_values = Q[observation]\n",
        "        # 使用获得奖励最大的那个动作\n",
        "        greedy_action = np.argmax(action_values)\n",
        "        # 是的每个动作都有出现的可能性\n",
        "        probabilities = np.ones(nA)/nA * epsilon\n",
        "        # 最好的那个动作的概率会大一些\n",
        "        probabilities[greedy_action] = probabilities[greedy_action] + (1 - epsilon)\n",
        "        \n",
        "        return probabilities\n",
        "        \n",
        "    return policy_fn "
      ],
      "execution_count": 0,
      "outputs": []
    },
    {
      "cell_type": "markdown",
      "metadata": {
        "id": "e0UdcebbefWH",
        "colab_type": "text"
      },
      "source": [
        "###GLIE Monte-Carlo Control\n",
        "- 在第k轮的迭代中(kth episode), 我们使用策略$\\pi$得到了$\\{S_{1}, A_{1}, R_{2}, \\cdots, S_{T}\\}$;\n",
        "- 对于每一个状态$S$, 和动作$A$二元组, $\\{S_{t}, A_{t}\\}$, 我们进行如下操作(更新Q):\n",
        "    - $N(S_{t}, A_{t}) \\leftarrow N(S_{t}, A_{t}) + 1$, 出现次数+1;\n",
        "    - $Q(S_{t}, A_{t}) \\leftarrow Q(S_{t}, A_{t}) + \\frac{1}{N(S_{t}, A_{t})} * (G_{t}-Q(S_{t}, A_{t}))$, 使用incremental mean;\n",
        "\n",
        "更新策略, $\\pi \\leftarrow \\epsilon-greedy(Q)$"
      ]
    },
    {
      "cell_type": "markdown",
      "metadata": {
        "id": "yGzv6b_AlHNA",
        "colab_type": "text"
      },
      "source": [
        "### 评价一个策略的Q与更新策略"
      ]
    },
    {
      "cell_type": "code",
      "metadata": {
        "id": "JfDLtqovaXVA",
        "colab_type": "code",
        "colab": {
          "base_uri": "https://localhost:8080/",
          "height": 35
        },
        "outputId": "daa23d5f-ab08-4fc2-b0fb-c1c2d68ef217"
      },
      "source": [
        "state = environment.reset()\n",
        "environment.step(1)"
      ],
      "execution_count": 71,
      "outputs": [
        {
          "output_type": "execute_result",
          "data": {
            "text/plain": [
              "(31, -1.0, False, {'prob': 1.0})"
            ]
          },
          "metadata": {
            "tags": []
          },
          "execution_count": 71
        }
      ]
    },
    {
      "cell_type": "code",
      "metadata": {
        "id": "GzbRn6f0ecKV",
        "colab_type": "code",
        "colab": {}
      },
      "source": [
        "def GLIE(env, num_episodes, discount_factor=1.0, epsilon=0.2):\n",
        "    # 环境中所有动作的数量\n",
        "    nA = env.action_space.n\n",
        "\n",
        "    # 初始化Q表\n",
        "    Q = defaultdict(lambda: np.zeros(nA))\n",
        "\n",
        "    # store the number of times each state is visited \n",
        "    returns_num = defaultdict(float)\n",
        "    returns_sum = defaultdict(float) # 记录(state, action)对的累计reward\n",
        "    \n",
        "    \n",
        "    # Keeps track of useful statistics\n",
        "    stats = plotting.EpisodeStats(\n",
        "        episode_lengths=np.zeros(num_episodes+1),\n",
        "        episode_rewards=np.zeros(num_episodes+1)) \n",
        "    \n",
        "    # 初始化police\n",
        "    behaviour_policy = make_epsilon_greedy_policy(Q, epsilon, nA) # 这是我们实际执行采取的策略\n",
        "\n",
        "    for i_episode in range(1, num_episodes + 1):\n",
        "        # 开始一个episode, 开始一局游戏\n",
        "        episode = [] # 这里包括((state,action,reward), (state,action,reward), ...)\n",
        "\n",
        "        state = env.reset()        \n",
        "\n",
        "        for t in itertools.count():\n",
        "            action = np.random.choice(nA, p=behaviour_policy(state)) # 选择一个策略\n",
        "            next_state, reward, done, _ = env.step(action) # 执行action, 返回reward和下一步的状态\n",
        "\n",
        "            # 将状态加入episode中\n",
        "            episode.append((state, action, reward))\n",
        "            \n",
        "            # 计算统计数据\n",
        "            stats.episode_rewards[i_episode] += reward # 计算累计奖励\n",
        "            stats.episode_lengths[i_episode] = t # 查看每一轮的时间\n",
        "\n",
        "            if done or t>500:\n",
        "                break\n",
        "\n",
        "            state = next_state\n",
        "\n",
        "        sa_in_episode = set([(x[0], x[1]) for x in episode]) # 只取出(state, action)\n",
        "        for state, action in sa_in_episode:\n",
        "            sa_pair = (state, action)\n",
        "            # 找到第一次(state,action)出现的位置\n",
        "            first_occurence_idx = next(i for i,x in enumerate(episode) if x[0] == state and x[1] == action)\n",
        "            # 第一次出现之后, 的累计的奖励\n",
        "            G = sum([x[2]*(discount_factor**i) for i,x in enumerate(episode[first_occurence_idx:])])\n",
        "            # Calculate average return for this state over all sampled episodes\n",
        "            returns_sum[sa_pair] += G\n",
        "            returns_num[sa_pair] += 1.0\n",
        "            Q[state][action] = returns_sum[sa_pair] / returns_num[sa_pair]\n",
        "\n",
        "\n",
        "        if i_episode % 100 == 0:\n",
        "            # 打印\n",
        "            print(\"\\rEpisode {}/{}. | \".format(i_episode, num_episodes), end=\"\")\n",
        "\n",
        "    return Q, behaviour_policy, stats"
      ],
      "execution_count": 0,
      "outputs": []
    },
    {
      "cell_type": "markdown",
      "metadata": {
        "id": "cztRXVArYcb_",
        "colab_type": "text"
      },
      "source": [
        "### 评价上面的policy且进行可视化"
      ]
    },
    {
      "cell_type": "code",
      "metadata": {
        "id": "-YjJCTT8VVmL",
        "colab_type": "code",
        "outputId": "9c91733f-395d-40f6-bf54-e8c85e21db4f",
        "colab": {
          "base_uri": "https://localhost:8080/",
          "height": 35
        }
      },
      "source": [
        "Q, policy, stats = GLIE(environment, num_episodes=10000, discount_factor=0.9, epsilon=0.1)"
      ],
      "execution_count": 176,
      "outputs": [
        {
          "output_type": "stream",
          "text": [
            "Episode 10000/10000. | "
          ],
          "name": "stdout"
        }
      ]
    },
    {
      "cell_type": "code",
      "metadata": {
        "id": "mRP3AesQQpu0",
        "colab_type": "code",
        "outputId": "566d5a8e-6532-4564-90cd-5e1450e647b3",
        "colab": {
          "base_uri": "https://localhost:8080/",
          "height": 1000
        }
      },
      "source": [
        "plotting.plot_episode_stats(stats)"
      ],
      "execution_count": 177,
      "outputs": [
        {
          "output_type": "display_data",
          "data": {
            "image/png": "[encoded data removed]",
            "text/plain": [
              "<Figure size 720x360 with 1 Axes>"
            ]
          },
          "metadata": {
            "tags": [],
            "needs_background": "light"
          }
        },
        {
          "output_type": "display_data",
          "data": {
            "image/png": "[encoded data removed]",
            "text/plain": [
              "<Figure size 720x360 with 1 Axes>"
            ]
          },
          "metadata": {
            "tags": [],
            "needs_background": "light"
          }
        },
        {
          "output_type": "display_data",
          "data": {
            "image/png": "[encoded data removed]",
            "text/plain": [
              "<Figure size 720x360 with 1 Axes>"
            ]
          },
          "metadata": {
            "tags": [],
            "needs_background": "light"
          }
        },
        {
          "output_type": "execute_result",
          "data": {
            "text/plain": [
              "(<Figure size 720x360 with 1 Axes>,\n",
              " <Figure size 720x360 with 1 Axes>,\n",
              " <Figure size 720x360 with 1 Axes>)"
            ]
          },
          "metadata": {
            "tags": []
          },
          "execution_count": 177
        }
      ]
    },
    {
      "cell_type": "code",
      "metadata": {
        "id": "wvP8iEfhyzxR",
        "colab_type": "code",
        "outputId": "064a1bd9-aac2-4928-bcaa-3db505d755c6",
        "colab": {
          "base_uri": "https://localhost:8080/",
          "height": 1000
        }
      },
      "source": [
        "state = environment.reset()\n",
        "action = np.argmax(policy(state))\n",
        "\n",
        "for t in itertools.count():\n",
        "    state, reward, done, _ = environment.step(action) # 执行action, 返回reward和下一步的状态 \n",
        "    action = np.argmax(policy(state)) # 查看新的action\n",
        "\n",
        "    print('-Step:{}-(State, Action):({},{})'.format(t, state, action))\n",
        "    environment._render() # 显示结果\n",
        "\n",
        "    if done:\n",
        "        break\n",
        "\n",
        "    if t > 100:\n",
        "        break"
      ],
      "execution_count": 178,
      "outputs": [
        {
          "output_type": "stream",
          "text": [
            "-Step:0-(State, Action):(40,1)\n",
            "o  o  o  o  o  o  o  o  o  o\n",
            "o  o  o  o  o  o  o  o  o  o\n",
            "o  o  o  o  o  o  o  o  o  o\n",
            "o  o  o  o  o  o  o  T  o  o\n",
            "x  o  o  o  o  o  o  o  o  o\n",
            "o  o  o  o  o  o  o  o  o  o\n",
            "o  o  o  o  o  o  o  o  o  o\n",
            "\n",
            "-Step:1-(State, Action):(41,1)\n",
            "o  o  o  o  o  o  o  o  o  o\n",
            "o  o  o  o  o  o  o  o  o  o\n",
            "o  o  o  o  o  o  o  o  o  o\n",
            "o  o  o  o  o  o  o  T  o  o\n",
            "o  x  o  o  o  o  o  o  o  o\n",
            "o  o  o  o  o  o  o  o  o  o\n",
            "o  o  o  o  o  o  o  o  o  o\n",
            "\n",
            "-Step:2-(State, Action):(42,1)\n",
            "o  o  o  o  o  o  o  o  o  o\n",
            "o  o  o  o  o  o  o  o  o  o\n",
            "o  o  o  o  o  o  o  o  o  o\n",
            "o  o  o  o  o  o  o  T  o  o\n",
            "o  o  x  o  o  o  o  o  o  o\n",
            "o  o  o  o  o  o  o  o  o  o\n",
            "o  o  o  o  o  o  o  o  o  o\n",
            "\n",
            "-Step:3-(State, Action):(43,0)\n",
            "o  o  o  o  o  o  o  o  o  o\n",
            "o  o  o  o  o  o  o  o  o  o\n",
            "o  o  o  o  o  o  o  o  o  o\n",
            "o  o  o  o  o  o  o  T  o  o\n",
            "o  o  o  x  o  o  o  o  o  o\n",
            "o  o  o  o  o  o  o  o  o  o\n",
            "o  o  o  o  o  o  o  o  o  o\n",
            "\n",
            "-Step:4-(State, Action):(23,0)\n",
            "o  o  o  o  o  o  o  o  o  o\n",
            "o  o  o  o  o  o  o  o  o  o\n",
            "o  o  o  x  o  o  o  o  o  o\n",
            "o  o  o  o  o  o  o  T  o  o\n",
            "o  o  o  o  o  o  o  o  o  o\n",
            "o  o  o  o  o  o  o  o  o  o\n",
            "o  o  o  o  o  o  o  o  o  o\n",
            "\n",
            "-Step:5-(State, Action):(3,1)\n",
            "o  o  o  x  o  o  o  o  o  o\n",
            "o  o  o  o  o  o  o  o  o  o\n",
            "o  o  o  o  o  o  o  o  o  o\n",
            "o  o  o  o  o  o  o  T  o  o\n",
            "o  o  o  o  o  o  o  o  o  o\n",
            "o  o  o  o  o  o  o  o  o  o\n",
            "o  o  o  o  o  o  o  o  o  o\n",
            "\n",
            "-Step:6-(State, Action):(4,1)\n",
            "o  o  o  o  x  o  o  o  o  o\n",
            "o  o  o  o  o  o  o  o  o  o\n",
            "o  o  o  o  o  o  o  o  o  o\n",
            "o  o  o  o  o  o  o  T  o  o\n",
            "o  o  o  o  o  o  o  o  o  o\n",
            "o  o  o  o  o  o  o  o  o  o\n",
            "o  o  o  o  o  o  o  o  o  o\n",
            "\n",
            "-Step:7-(State, Action):(5,1)\n",
            "o  o  o  o  o  x  o  o  o  o\n",
            "o  o  o  o  o  o  o  o  o  o\n",
            "o  o  o  o  o  o  o  o  o  o\n",
            "o  o  o  o  o  o  o  T  o  o\n",
            "o  o  o  o  o  o  o  o  o  o\n",
            "o  o  o  o  o  o  o  o  o  o\n",
            "o  o  o  o  o  o  o  o  o  o\n",
            "\n",
            "-Step:8-(State, Action):(6,1)\n",
            "o  o  o  o  o  o  x  o  o  o\n",
            "o  o  o  o  o  o  o  o  o  o\n",
            "o  o  o  o  o  o  o  o  o  o\n",
            "o  o  o  o  o  o  o  T  o  o\n",
            "o  o  o  o  o  o  o  o  o  o\n",
            "o  o  o  o  o  o  o  o  o  o\n",
            "o  o  o  o  o  o  o  o  o  o\n",
            "\n",
            "-Step:9-(State, Action):(7,1)\n",
            "o  o  o  o  o  o  o  x  o  o\n",
            "o  o  o  o  o  o  o  o  o  o\n",
            "o  o  o  o  o  o  o  o  o  o\n",
            "o  o  o  o  o  o  o  T  o  o\n",
            "o  o  o  o  o  o  o  o  o  o\n",
            "o  o  o  o  o  o  o  o  o  o\n",
            "o  o  o  o  o  o  o  o  o  o\n",
            "\n",
            "-Step:10-(State, Action):(8,1)\n",
            "o  o  o  o  o  o  o  o  x  o\n",
            "o  o  o  o  o  o  o  o  o  o\n",
            "o  o  o  o  o  o  o  o  o  o\n",
            "o  o  o  o  o  o  o  T  o  o\n",
            "o  o  o  o  o  o  o  o  o  o\n",
            "o  o  o  o  o  o  o  o  o  o\n",
            "o  o  o  o  o  o  o  o  o  o\n",
            "\n",
            "-Step:11-(State, Action):(9,2)\n",
            "o  o  o  o  o  o  o  o  o  x\n",
            "o  o  o  o  o  o  o  o  o  o\n",
            "o  o  o  o  o  o  o  o  o  o\n",
            "o  o  o  o  o  o  o  T  o  o\n",
            "o  o  o  o  o  o  o  o  o  o\n",
            "o  o  o  o  o  o  o  o  o  o\n",
            "o  o  o  o  o  o  o  o  o  o\n",
            "\n",
            "-Step:12-(State, Action):(19,2)\n",
            "o  o  o  o  o  o  o  o  o  o\n",
            "o  o  o  o  o  o  o  o  o  x\n",
            "o  o  o  o  o  o  o  o  o  o\n",
            "o  o  o  o  o  o  o  T  o  o\n",
            "o  o  o  o  o  o  o  o  o  o\n",
            "o  o  o  o  o  o  o  o  o  o\n",
            "o  o  o  o  o  o  o  o  o  o\n",
            "\n",
            "-Step:13-(State, Action):(29,2)\n",
            "o  o  o  o  o  o  o  o  o  o\n",
            "o  o  o  o  o  o  o  o  o  o\n",
            "o  o  o  o  o  o  o  o  o  x\n",
            "o  o  o  o  o  o  o  T  o  o\n",
            "o  o  o  o  o  o  o  o  o  o\n",
            "o  o  o  o  o  o  o  o  o  o\n",
            "o  o  o  o  o  o  o  o  o  o\n",
            "\n",
            "-Step:14-(State, Action):(39,2)\n",
            "o  o  o  o  o  o  o  o  o  o\n",
            "o  o  o  o  o  o  o  o  o  o\n",
            "o  o  o  o  o  o  o  o  o  o\n",
            "o  o  o  o  o  o  o  T  o  x\n",
            "o  o  o  o  o  o  o  o  o  o\n",
            "o  o  o  o  o  o  o  o  o  o\n",
            "o  o  o  o  o  o  o  o  o  o\n",
            "\n",
            "-Step:15-(State, Action):(49,3)\n",
            "o  o  o  o  o  o  o  o  o  o\n",
            "o  o  o  o  o  o  o  o  o  o\n",
            "o  o  o  o  o  o  o  o  o  o\n",
            "o  o  o  o  o  o  o  T  o  o\n",
            "o  o  o  o  o  o  o  o  o  x\n",
            "o  o  o  o  o  o  o  o  o  o\n",
            "o  o  o  o  o  o  o  o  o  o\n",
            "\n",
            "-Step:16-(State, Action):(48,3)\n",
            "o  o  o  o  o  o  o  o  o  o\n",
            "o  o  o  o  o  o  o  o  o  o\n",
            "o  o  o  o  o  o  o  o  o  o\n",
            "o  o  o  o  o  o  o  T  o  o\n",
            "o  o  o  o  o  o  o  o  x  o\n",
            "o  o  o  o  o  o  o  o  o  o\n",
            "o  o  o  o  o  o  o  o  o  o\n",
            "\n",
            "-Step:17-(State, Action):(37,0)\n",
            "o  o  o  o  o  o  o  o  o  o\n",
            "o  o  o  o  o  o  o  o  o  o\n",
            "o  o  o  o  o  o  o  o  o  o\n",
            "o  o  o  o  o  o  o  x  o  o\n",
            "o  o  o  o  o  o  o  o  o  o\n",
            "o  o  o  o  o  o  o  o  o  o\n",
            "o  o  o  o  o  o  o  o  o  o\n",
            "\n"
          ],
          "name": "stdout"
        }
      ]
    },
    {
      "cell_type": "code",
      "metadata": {
        "id": "o9gCyioxY1av",
        "colab_type": "code",
        "colab": {}
      },
      "source": [
        ""
      ],
      "execution_count": 0,
      "outputs": []
    }
  ]
}