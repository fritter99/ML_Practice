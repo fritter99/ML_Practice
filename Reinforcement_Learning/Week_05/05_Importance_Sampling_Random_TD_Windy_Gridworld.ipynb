{
  "nbformat": 4,
  "nbformat_minor": 0,
  "metadata": {
    "colab": {
      "name": "05_Importance_Sampling_Random_TD_Windy_Gridworld.ipynb",
      "provenance": [],
      "collapsed_sections": []
    },
    "kernelspec": {
      "name": "python3",
      "display_name": "Python 3"
    }
  },
  "cells": [
    {
      "cell_type": "code",
      "metadata": {
        "id": "uuxjqh_ZBU62",
        "colab_type": "code",
        "colab": {
          "base_uri": "https://localhost:8080/",
          "height": 35
        },
        "outputId": "e7ac5d93-4288-4224-b490-6eb55c754324"
      },
      "source": [
        "from google.colab import drive\n",
        "drive.mount('/content/drive')"
      ],
      "execution_count": 11,
      "outputs": [
        {
          "output_type": "stream",
          "text": [
            "Drive already mounted at /content/drive; to attempt to forcibly remount, call drive.mount(\"/content/drive\", force_remount=True).\n"
          ],
          "name": "stdout"
        }
      ]
    },
    {
      "cell_type": "code",
      "metadata": {
        "id": "u7uoNFqvBjMH",
        "colab_type": "code",
        "colab": {}
      },
      "source": [
        "import sys\n",
        "if \"/content/drive/My Drive/Machine Learning/lib/\" not in sys.path:\n",
        "    sys.path.append(\"/content/drive/My Drive/Machine Learning/lib/\") "
      ],
      "execution_count": 12,
      "outputs": []
    },
    {
      "cell_type": "code",
      "metadata": {
        "id": "mh7A12hUBfAe",
        "colab_type": "code",
        "colab": {}
      },
      "source": [
        "from envs.windy_gridworld import WindyGridworldEnv\n",
        "import plotting\n",
        "\n",
        "import gym\n",
        "import numpy as np\n",
        "import itertools\n",
        "from collections import defaultdict\n",
        "\n",
        "import matplotlib.pyplot as plt\n",
        "%matplotlib inline"
      ],
      "execution_count": 13,
      "outputs": []
    },
    {
      "cell_type": "markdown",
      "metadata": {
        "id": "Tcq--EM1S4zx",
        "colab_type": "text"
      },
      "source": [
        "## Windy Gridworld Playground环境介绍\n",
        "\n",
        "- observation为格子所在的编号;\n",
        "- action的组成: 有4个动作, 分别是上下左右;\n",
        "    - 0, UP\n",
        "    - 1, RIGHT\n",
        "    - 2, DOWN\n",
        "    - 3, LEFT\n",
        "- reward: 每走一步reward=-1, reward越大也就是走的步数越少;\n",
        "    "
      ]
    },
    {
      "cell_type": "markdown",
      "metadata": {
        "id": "UXMontTjXi3k",
        "colab_type": "text"
      },
      "source": [
        "### 初始化环境"
      ]
    },
    {
      "cell_type": "code",
      "metadata": {
        "id": "EHkdePu9XTdW",
        "colab_type": "code",
        "colab": {}
      },
      "source": [
        "environment = WindyGridworldEnv()"
      ],
      "execution_count": 14,
      "outputs": []
    },
    {
      "cell_type": "code",
      "metadata": {
        "id": "lIsNr6gOhMUP",
        "colab_type": "code",
        "colab": {
          "base_uri": "https://localhost:8080/",
          "height": 35
        },
        "outputId": "47bfb452-8a32-41af-f11e-af4a98647ff8"
      },
      "source": [
        "# 这个环境中可能动作的个数\n",
        "nA = environment.action_space.n\n",
        "print(nA)"
      ],
      "execution_count": 15,
      "outputs": [
        {
          "output_type": "stream",
          "text": [
            "4\n"
          ],
          "name": "stdout"
        }
      ]
    },
    {
      "cell_type": "markdown",
      "metadata": {
        "id": "tF4Ymw4G7Br_",
        "colab_type": "text"
      },
      "source": [
        "### 策略的定义\n",
        "\n",
        "- $\\mu$使用随机策略\n",
        "- $\\pi$使用greedy策略"
      ]
    },
    {
      "cell_type": "code",
      "metadata": {
        "id": "8RhBYmu5V1mn",
        "colab_type": "code",
        "colab": {}
      },
      "source": [
        "def mu_policy(nA):\n",
        "    \"\"\"\n",
        "    这是一个随机的策略, 执行每一个action的概率都是相同的.\n",
        "    \"\"\"    \n",
        "    def policy_fn(observation):\n",
        "        A = np.ones(nA, dtype=float) / nA\n",
        "        return A\n",
        "    return policy_fn"
      ],
      "execution_count": 16,
      "outputs": []
    },
    {
      "cell_type": "code",
      "metadata": {
        "id": "arG9kGqu7KEN",
        "colab_type": "code",
        "colab": {}
      },
      "source": [
        "def pi_policy(Q):\n",
        "    \"\"\"\n",
        "    这是greedy policy, 每次选择最优的动作\n",
        "    \"\"\"\n",
        "    def policy_fn(observation):\n",
        "        action_values = Q[observation]\n",
        "        best_action = np.argmax(action_values) # 选择最优的动作\n",
        "        return np.eye(len(action_values))[best_action] # 返回的是两个动作出现的概率\n",
        "        \n",
        "    return policy_fn"
      ],
      "execution_count": 17,
      "outputs": []
    },
    {
      "cell_type": "markdown",
      "metadata": {
        "id": "BbbfHFbn7US8",
        "colab_type": "text"
      },
      "source": [
        "### Importance Sampling for Off-Policy TD"
      ]
    },
    {
      "cell_type": "code",
      "metadata": {
        "id": "P32xg9Sz7MQf",
        "colab_type": "code",
        "colab": {}
      },
      "source": [
        "def td_control_importance_sampling(env, num_episodes, discount_factor=1.0, alpha=0.1):\n",
        "    # 环境中所有动作的数量\n",
        "    nA = env.action_space.n\n",
        "\n",
        "    # 初始化Q表\n",
        "    Q = defaultdict(lambda: np.zeros(nA))\n",
        "    \n",
        "    # Keeps track of useful statistics\n",
        "    stats = plotting.EpisodeStats(\n",
        "        episode_lengths=np.zeros(num_episodes+1),\n",
        "        episode_rewards=np.zeros(num_episodes+1)) \n",
        "    \n",
        "    # 初始化police, 因为是off-policy, 所以有两个策略\n",
        "    policy = pi_policy(Q) # 这个是我们要更新的策略, 这个是greedy的\n",
        "    behaviour_policy = mu_policy(nA) # 这是我们实际执行action时候采取的策略, 这里使用随机游走\n",
        "\n",
        "    for i_episode in range(1, num_episodes + 1):\n",
        "        # 开始一轮游戏\n",
        "        state = env.reset()        \n",
        "        action = np.random.choice(nA, p=behaviour_policy(state)) # 从实际执行的policy, 选择action\n",
        "        for t in itertools.count():\n",
        "            next_state, reward, done, _ = env.step(action) # 执行action, 返回reward和下一步的状态\n",
        "            next_action = np.random.choice(nA, p=behaviour_policy(next_state)) # 选择下一步的动作\n",
        "            \n",
        "            next_action_pi = np.argmax(policy(next_state)) \n",
        "\n",
        "            # 更新Q\n",
        "            Q[state][action] = Q[state][action] + alpha*(reward + discount_factor*Q[next_state][next_action_pi] - Q[state][action])\n",
        "\n",
        "            # 计算统计数据\n",
        "            stats.episode_rewards[i_episode] += reward # 计算累计奖励\n",
        "            stats.episode_lengths[i_episode] = t # 查看每一轮的时间\n",
        "\n",
        "            if done:\n",
        "                break\n",
        "            \n",
        "            if t > 500:\n",
        "                break\n",
        "\n",
        "            state = next_state\n",
        "            action = next_action\n",
        "        \n",
        "        if i_episode % 100 == 0:\n",
        "            # 打印\n",
        "            print(\"\\rEpisode {}/{}. | \".format(i_episode, num_episodes), end=\"\")\n",
        "    \n",
        "    return Q, policy, stats"
      ],
      "execution_count": 18,
      "outputs": []
    },
    {
      "cell_type": "markdown",
      "metadata": {
        "id": "Bqb75MfR7liY",
        "colab_type": "text"
      },
      "source": [
        "### 开始模拟"
      ]
    },
    {
      "cell_type": "code",
      "metadata": {
        "id": "MZI4nBGV7m66",
        "colab_type": "code",
        "colab": {
          "base_uri": "https://localhost:8080/",
          "height": 35
        },
        "outputId": "2df91b6c-c766-4e35-9449-4bb254feace3"
      },
      "source": [
        "Q, policy, stats = td_control_importance_sampling(environment, num_episodes=10000, discount_factor=0.9, alpha=0.1)"
      ],
      "execution_count": 19,
      "outputs": [
        {
          "output_type": "stream",
          "text": [
            "Episode 10000/10000. | "
          ],
          "name": "stdout"
        }
      ]
    },
    {
      "cell_type": "code",
      "metadata": {
        "id": "rlns4aeK_JbH",
        "colab_type": "code",
        "colab": {
          "base_uri": "https://localhost:8080/",
          "height": 1000
        },
        "outputId": "c200d575-3ad4-44ff-8538-2e03df9d2d35"
      },
      "source": [
        "# 这里不需要看下面的图, 因为我的行为策略是随机策略, 我们应该看后面使用真正策略的效果\n",
        "plotting.plot_episode_stats(stats)"
      ],
      "execution_count": 20,
      "outputs": [
        {
          "output_type": "display_data",
          "data": {
            "image/png": "[encoded data removed]",
            "text/plain": [
              "<Figure size 720x360 with 1 Axes>"
            ]
          },
          "metadata": {
            "tags": [],
            "needs_background": "light"
          }
        },
        {
          "output_type": "display_data",
          "data": {
            "image/png": "[encoded data removed]",
            "text/plain": [
              "<Figure size 720x360 with 1 Axes>"
            ]
          },
          "metadata": {
            "tags": [],
            "needs_background": "light"
          }
        },
        {
          "output_type": "display_data",
          "data": {
            "image/png": "[encoded data removed]",
            "text/plain": [
              "<Figure size 720x360 with 1 Axes>"
            ]
          },
          "metadata": {
            "tags": [],
            "needs_background": "light"
          }
        },
        {
          "output_type": "execute_result",
          "data": {
            "text/plain": [
              "(<Figure size 720x360 with 1 Axes>,\n",
              " <Figure size 720x360 with 1 Axes>,\n",
              " <Figure size 720x360 with 1 Axes>)"
            ]
          },
          "metadata": {
            "tags": []
          },
          "execution_count": 20
        }
      ]
    },
    {
      "cell_type": "markdown",
      "metadata": {
        "id": "HHOg1T9j9Rgc",
        "colab_type": "text"
      },
      "source": [
        "### 使用最终策略执行"
      ]
    },
    {
      "cell_type": "code",
      "metadata": {
        "id": "fAQNuAZl9ZhE",
        "colab_type": "code",
        "colab": {
          "base_uri": "https://localhost:8080/",
          "height": 1000
        },
        "outputId": "1d4af654-fdf3-4fc7-9662-3247323c58bc"
      },
      "source": [
        "# 这里可以看到是可以找到路径的\n",
        "state = environment.reset()\n",
        "action = np.argmax(policy(state))\n",
        "\n",
        "for t in itertools.count():\n",
        "    state, reward, done, _ = environment.step(action) # 执行action, 返回reward和下一步的状态 \n",
        "    action = np.argmax(policy(state)) # 查看新的action\n",
        "\n",
        "    print('-Step:{}-'.format(str(t)))\n",
        "    environment._render() # 显示结果\n",
        "\n",
        "    if done:\n",
        "        break\n",
        "\n",
        "    if t > 50:\n",
        "        break"
      ],
      "execution_count": 21,
      "outputs": [
        {
          "output_type": "stream",
          "text": [
            "-Step:0-\n",
            "o  o  o  o  o  o  o  o  o  o\n",
            "o  o  o  o  o  o  o  o  o  o\n",
            "o  o  o  o  o  o  o  o  o  o\n",
            "o  x  o  o  o  o  o  T  o  o\n",
            "o  o  o  o  o  o  o  o  o  o\n",
            "o  o  o  o  o  o  o  o  o  o\n",
            "o  o  o  o  o  o  o  o  o  o\n",
            "\n",
            "-Step:1-\n",
            "o  o  o  o  o  o  o  o  o  o\n",
            "o  o  o  o  o  o  o  o  o  o\n",
            "o  o  o  o  o  o  o  o  o  o\n",
            "o  o  x  o  o  o  o  T  o  o\n",
            "o  o  o  o  o  o  o  o  o  o\n",
            "o  o  o  o  o  o  o  o  o  o\n",
            "o  o  o  o  o  o  o  o  o  o\n",
            "\n",
            "-Step:2-\n",
            "o  o  o  o  o  o  o  o  o  o\n",
            "o  o  o  o  o  o  o  o  o  o\n",
            "o  o  o  o  o  o  o  o  o  o\n",
            "o  o  o  x  o  o  o  T  o  o\n",
            "o  o  o  o  o  o  o  o  o  o\n",
            "o  o  o  o  o  o  o  o  o  o\n",
            "o  o  o  o  o  o  o  o  o  o\n",
            "\n",
            "-Step:3-\n",
            "o  o  o  o  o  o  o  o  o  o\n",
            "o  o  o  o  o  o  o  o  o  o\n",
            "o  o  o  o  x  o  o  o  o  o\n",
            "o  o  o  o  o  o  o  T  o  o\n",
            "o  o  o  o  o  o  o  o  o  o\n",
            "o  o  o  o  o  o  o  o  o  o\n",
            "o  o  o  o  o  o  o  o  o  o\n",
            "\n",
            "-Step:4-\n",
            "o  o  o  o  o  o  o  o  o  o\n",
            "o  o  o  o  o  x  o  o  o  o\n",
            "o  o  o  o  o  o  o  o  o  o\n",
            "o  o  o  o  o  o  o  T  o  o\n",
            "o  o  o  o  o  o  o  o  o  o\n",
            "o  o  o  o  o  o  o  o  o  o\n",
            "o  o  o  o  o  o  o  o  o  o\n",
            "\n",
            "-Step:5-\n",
            "o  o  o  o  o  o  x  o  o  o\n",
            "o  o  o  o  o  o  o  o  o  o\n",
            "o  o  o  o  o  o  o  o  o  o\n",
            "o  o  o  o  o  o  o  T  o  o\n",
            "o  o  o  o  o  o  o  o  o  o\n",
            "o  o  o  o  o  o  o  o  o  o\n",
            "o  o  o  o  o  o  o  o  o  o\n",
            "\n",
            "-Step:6-\n",
            "o  o  o  o  o  o  o  x  o  o\n",
            "o  o  o  o  o  o  o  o  o  o\n",
            "o  o  o  o  o  o  o  o  o  o\n",
            "o  o  o  o  o  o  o  T  o  o\n",
            "o  o  o  o  o  o  o  o  o  o\n",
            "o  o  o  o  o  o  o  o  o  o\n",
            "o  o  o  o  o  o  o  o  o  o\n",
            "\n",
            "-Step:7-\n",
            "o  o  o  o  o  o  o  o  x  o\n",
            "o  o  o  o  o  o  o  o  o  o\n",
            "o  o  o  o  o  o  o  o  o  o\n",
            "o  o  o  o  o  o  o  T  o  o\n",
            "o  o  o  o  o  o  o  o  o  o\n",
            "o  o  o  o  o  o  o  o  o  o\n",
            "o  o  o  o  o  o  o  o  o  o\n",
            "\n",
            "-Step:8-\n",
            "o  o  o  o  o  o  o  o  o  x\n",
            "o  o  o  o  o  o  o  o  o  o\n",
            "o  o  o  o  o  o  o  o  o  o\n",
            "o  o  o  o  o  o  o  T  o  o\n",
            "o  o  o  o  o  o  o  o  o  o\n",
            "o  o  o  o  o  o  o  o  o  o\n",
            "o  o  o  o  o  o  o  o  o  o\n",
            "\n",
            "-Step:9-\n",
            "o  o  o  o  o  o  o  o  o  o\n",
            "o  o  o  o  o  o  o  o  o  x\n",
            "o  o  o  o  o  o  o  o  o  o\n",
            "o  o  o  o  o  o  o  T  o  o\n",
            "o  o  o  o  o  o  o  o  o  o\n",
            "o  o  o  o  o  o  o  o  o  o\n",
            "o  o  o  o  o  o  o  o  o  o\n",
            "\n",
            "-Step:10-\n",
            "o  o  o  o  o  o  o  o  o  o\n",
            "o  o  o  o  o  o  o  o  o  o\n",
            "o  o  o  o  o  o  o  o  o  x\n",
            "o  o  o  o  o  o  o  T  o  o\n",
            "o  o  o  o  o  o  o  o  o  o\n",
            "o  o  o  o  o  o  o  o  o  o\n",
            "o  o  o  o  o  o  o  o  o  o\n",
            "\n",
            "-Step:11-\n",
            "o  o  o  o  o  o  o  o  o  o\n",
            "o  o  o  o  o  o  o  o  o  o\n",
            "o  o  o  o  o  o  o  o  o  o\n",
            "o  o  o  o  o  o  o  T  o  x\n",
            "o  o  o  o  o  o  o  o  o  o\n",
            "o  o  o  o  o  o  o  o  o  o\n",
            "o  o  o  o  o  o  o  o  o  o\n",
            "\n",
            "-Step:12-\n",
            "o  o  o  o  o  o  o  o  o  o\n",
            "o  o  o  o  o  o  o  o  o  o\n",
            "o  o  o  o  o  o  o  o  o  o\n",
            "o  o  o  o  o  o  o  T  o  o\n",
            "o  o  o  o  o  o  o  o  o  x\n",
            "o  o  o  o  o  o  o  o  o  o\n",
            "o  o  o  o  o  o  o  o  o  o\n",
            "\n",
            "-Step:13-\n",
            "o  o  o  o  o  o  o  o  o  o\n",
            "o  o  o  o  o  o  o  o  o  o\n",
            "o  o  o  o  o  o  o  o  o  o\n",
            "o  o  o  o  o  o  o  T  o  o\n",
            "o  o  o  o  o  o  o  o  x  o\n",
            "o  o  o  o  o  o  o  o  o  o\n",
            "o  o  o  o  o  o  o  o  o  o\n",
            "\n",
            "-Step:14-\n",
            "o  o  o  o  o  o  o  o  o  o\n",
            "o  o  o  o  o  o  o  o  o  o\n",
            "o  o  o  o  o  o  o  o  o  o\n",
            "o  o  o  o  o  o  o  x  o  o\n",
            "o  o  o  o  o  o  o  o  o  o\n",
            "o  o  o  o  o  o  o  o  o  o\n",
            "o  o  o  o  o  o  o  o  o  o\n",
            "\n"
          ],
          "name": "stdout"
        }
      ]
    },
    {
      "cell_type": "code",
      "metadata": {
        "id": "RvpI7vhS-pdA",
        "colab_type": "code",
        "colab": {}
      },
      "source": [
        ""
      ],
      "execution_count": 21,
      "outputs": []
    }
  ]
}