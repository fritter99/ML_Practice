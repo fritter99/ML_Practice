{
  "nbformat": 4,
  "nbformat_minor": 0,
  "metadata": {
    "colab": {
      "name": "Deep Q Learning Pytorch.ipynb",
      "provenance": [],
      "collapsed_sections": []
    },
    "kernelspec": {
      "name": "python3",
      "display_name": "Python 3"
    }
  },
  "cells": [
    {
      "cell_type": "code",
      "metadata": {
        "id": "9bGoERL9jNqK",
        "colab_type": "code",
        "colab": {
          "base_uri": "https://localhost:8080/",
          "height": 35
        },
        "outputId": "91d63a1b-3a8a-4a26-eec1-4925062b1581"
      },
      "source": [
        "from google.colab import drive\n",
        "drive.mount('/content/drive')"
      ],
      "execution_count": null,
      "outputs": [
        {
          "output_type": "stream",
          "text": [
            "Drive already mounted at /content/drive; to attempt to forcibly remount, call drive.mount(\"/content/drive\", force_remount=True).\n"
          ],
          "name": "stdout"
        }
      ]
    },
    {
      "cell_type": "code",
      "metadata": {
        "id": "mNEqZxSNk17T",
        "colab_type": "code",
        "colab": {}
      },
      "source": [
        "import sys\n",
        "if \"/content/drive/My Drive/Machine Learning/lib/\" not in sys.path:\n",
        "    sys.path.append(\"/content/drive/My Drive/Machine Learning/lib/\")"
      ],
      "execution_count": null,
      "outputs": []
    },
    {
      "cell_type": "code",
      "metadata": {
        "id": "hfLbV0Eck_WY",
        "colab_type": "code",
        "colab": {
          "base_uri": "https://localhost:8080/",
          "height": 35
        },
        "outputId": "8ebae8a4-2949-4852-8709-ccd9b5dcd3c3"
      },
      "source": [
        "from gym.envs.toy_text import CliffWalkingEnv\n",
        "import plotting\n",
        "\n",
        "import gym\n",
        "import math\n",
        "import numpy as np\n",
        "import random\n",
        "import itertools\n",
        "from collections import namedtuple, defaultdict\n",
        "\n",
        "import torch\n",
        "import torch.nn as nn\n",
        "import torch.optim as optim\n",
        "import torch.nn.functional as F\n",
        "\n",
        "import matplotlib.pyplot as plt\n",
        "%matplotlib inline\n",
        "\n",
        "device = torch.device('cuda' if torch.cuda.is_available() else 'cpu')\n",
        "device"
      ],
      "execution_count": null,
      "outputs": [
        {
          "output_type": "execute_result",
          "data": {
            "text/plain": [
              "device(type='cpu')"
            ]
          },
          "metadata": {
            "tags": []
          },
          "execution_count": 94
        }
      ]
    },
    {
      "cell_type": "markdown",
      "metadata": {
        "id": "wCULVDp9lEsW",
        "colab_type": "text"
      },
      "source": [
        "## 环境测试"
      ]
    },
    {
      "cell_type": "code",
      "metadata": {
        "id": "rAUO1fFJlENO",
        "colab_type": "code",
        "colab": {}
      },
      "source": [
        "env = CliffWalkingEnv()"
      ],
      "execution_count": null,
      "outputs": []
    },
    {
      "cell_type": "markdown",
      "metadata": {
        "id": "kXFpo-iNpJkS",
        "colab_type": "text"
      },
      "source": [
        "## Q Learning"
      ]
    },
    {
      "cell_type": "code",
      "metadata": {
        "id": "m_cINkSFpNY9",
        "colab_type": "code",
        "colab": {}
      },
      "source": [
        "def mu_policy(Q, epsilon, nA):\n",
        "    \"\"\"\n",
        "    这是一个随机的策略, 执行每一个action的概率都是相同的.\n",
        "    \"\"\"\n",
        "    def policy_fn(observation):\n",
        "        # 看到这个state之后, 采取不同action获得的累计奖励\n",
        "        action_values = Q[observation]\n",
        "        # 使用获得奖励最大的那个动作\n",
        "        greedy_action = np.argmax(action_values)\n",
        "        # 是的每个动作都有出现的可能性\n",
        "        probabilities = np.ones(nA) /nA * epsilon\n",
        "        # 最好的那个动作的概率会大一些\n",
        "        probabilities[greedy_action] = probabilities[greedy_action] + (1 - epsilon)\n",
        "        \n",
        "        return probabilities\n",
        "\n",
        "    return policy_fn"
      ],
      "execution_count": null,
      "outputs": []
    },
    {
      "cell_type": "code",
      "metadata": {
        "id": "dEkSsERlpQWp",
        "colab_type": "code",
        "colab": {}
      },
      "source": [
        "def pi_policy(Q):\n",
        "    \"\"\"\n",
        "    这是greedy policy, 每次选择最优的动作\n",
        "    \"\"\"\n",
        "    def policy_fn(observation):\n",
        "        action_values = Q[observation]\n",
        "        best_action = np.argmax(action_values) # 选择最优的动作\n",
        "        return np.eye(len(action_values))[best_action] # 返回的是两个动作出现的概率\n",
        "        \n",
        "    return policy_fn"
      ],
      "execution_count": null,
      "outputs": []
    },
    {
      "cell_type": "code",
      "metadata": {
        "id": "qKCbNY42pVHj",
        "colab_type": "code",
        "colab": {}
      },
      "source": [
        "def qLearning(env, num_episodes, discount_factor=1.0, alpha=0.1, epsilon=0.2):\n",
        "    # 环境中所有动作的数量\n",
        "    nA = env.action_space.n\n",
        "\n",
        "    # 初始化Q表\n",
        "    Q = defaultdict(lambda: np.zeros(nA))\n",
        "    \n",
        "    # Keeps track of useful statistics\n",
        "    stats = plotting.EpisodeStats(\n",
        "        episode_lengths=np.zeros(num_episodes+1),\n",
        "        episode_rewards=np.zeros(num_episodes+1)) \n",
        "    \n",
        "    # 初始化police, 因为是off-policy, 所以有两个策略\n",
        "    behaviour_policy = mu_policy(Q, epsilon, nA) # 这是我们实际执行action时候采取的策略, 这里使用随机游走\n",
        "    policy = pi_policy(Q)\n",
        "\n",
        "    for i_episode in range(1, num_episodes + 1):\n",
        "        # 开始一轮游戏\n",
        "        state = env.reset()        \n",
        "        action = np.random.choice(nA, p=behaviour_policy(state)) # 从实际执行的policy, 选择action\n",
        "        for t in itertools.count():\n",
        "            next_state, reward, done, _ = env.step(action) # 执行action, 返回reward和下一步的状态\n",
        "            next_action = np.random.choice(nA, p=behaviour_policy(next_state)) # 选择下一步的动作\n",
        "\n",
        "            # 更新Q\n",
        "            Q[state][action] = Q[state][action] + alpha*(reward + discount_factor*max(Q[next_state]) - Q[state][action])\n",
        "\n",
        "            # 计算统计数据\n",
        "            stats.episode_rewards[i_episode] += reward # 计算累计奖励\n",
        "            stats.episode_lengths[i_episode] = t # 查看每一轮的时间\n",
        "\n",
        "            if done:\n",
        "                break\n",
        "            \n",
        "            if t > 500:\n",
        "                break\n",
        "\n",
        "            state = next_state\n",
        "            action = next_action\n",
        "        \n",
        "        if i_episode % 100 == 0:\n",
        "            # 打印\n",
        "            print(\"\\rEpisode {}/{}. | \".format(i_episode, num_episodes), end=\"\")\n",
        "    \n",
        "    return Q, policy, stats"
      ],
      "execution_count": null,
      "outputs": []
    },
    {
      "cell_type": "code",
      "metadata": {
        "id": "yMpE_2wupYQO",
        "colab_type": "code",
        "colab": {
          "base_uri": "https://localhost:8080/",
          "height": 35
        },
        "outputId": "fb0d8949-c299-4203-d51f-4dd908be8772"
      },
      "source": [
        "Q, policy, stats = qLearning(env, num_episodes=500, discount_factor=0.9, alpha=0.3, epsilon=0.1)"
      ],
      "execution_count": null,
      "outputs": [
        {
          "output_type": "stream",
          "text": [
            "Episode 500/500. | "
          ],
          "name": "stdout"
        }
      ]
    },
    {
      "cell_type": "code",
      "metadata": {
        "id": "e-O2-KQ-pb8n",
        "colab_type": "code",
        "colab": {
          "base_uri": "https://localhost:8080/",
          "height": 1000
        },
        "outputId": "77c9dd70-1239-4f2f-c1dc-605bd1b4fd22"
      },
      "source": [
        "plotting.plot_episode_stats(stats)"
      ],
      "execution_count": null,
      "outputs": [
        {
          "output_type": "display_data",
          "data": {
            "image/png": "[encoded data removed]",
            "text/plain": [
              "<Figure size 720x360 with 1 Axes>"
            ]
          },
          "metadata": {
            "tags": [],
            "needs_background": "light"
          }
        },
        {
          "output_type": "display_data",
          "data": {
            "image/png": "[encoded data removed]",
            "text/plain": [
              "<Figure size 720x360 with 1 Axes>"
            ]
          },
          "metadata": {
            "tags": [],
            "needs_background": "light"
          }
        },
        {
          "output_type": "display_data",
          "data": {
            "image/png": "[encoded data removed]",
            "text/plain": [
              "<Figure size 720x360 with 1 Axes>"
            ]
          },
          "metadata": {
            "tags": [],
            "needs_background": "light"
          }
        },
        {
          "output_type": "execute_result",
          "data": {
            "text/plain": [
              "(<Figure size 720x360 with 1 Axes>,\n",
              " <Figure size 720x360 with 1 Axes>,\n",
              " <Figure size 720x360 with 1 Axes>)"
            ]
          },
          "metadata": {
            "tags": []
          },
          "execution_count": 161
        }
      ]
    },
    {
      "cell_type": "markdown",
      "metadata": {
        "id": "NxYn9OclnDyK",
        "colab_type": "text"
      },
      "source": [
        "## Deep Q Learning的实现"
      ]
    },
    {
      "cell_type": "markdown",
      "metadata": {
        "id": "0clcabTpnjac",
        "colab_type": "text"
      },
      "source": [
        "### Replay Memory\n",
        "\n",
        "We’ll be using experience replay memory for training our DQN. \n",
        "It stores the transitions that the agent observes, allowing us to reuse this data later. \n",
        "By sampling from it randomly, the transitions that build up a batch are decorrelated (去相关). \n",
        "It has been shown that this greatly stabilizes and improves the DQN training procedure.\n",
        "\n",
        "For this, we're going to need two classses:\n",
        "\n",
        "- **Transition** - a named tuple representing a single transition in our environment. It essentially maps (state, action) pairs to their (next_state, reward) result, with the state being the screen difference image as described later on.\n",
        "- **ReplayMemory** - a cyclic buffer of bounded size that holds the transitions observed recently. It also implements a .sample() method for selecting a random batch of transitions for training."
      ]
    },
    {
      "cell_type": "code",
      "metadata": {
        "id": "ZvlFhrnylz2u",
        "colab_type": "code",
        "colab": {}
      },
      "source": [
        "Transition = namedtuple('Transition', ('state', 'action', 'next_state', 'reward'))"
      ],
      "execution_count": null,
      "outputs": []
    },
    {
      "cell_type": "code",
      "metadata": {
        "id": "S9v4Y43M8K14",
        "colab_type": "code",
        "colab": {
          "base_uri": "https://localhost:8080/",
          "height": 35
        },
        "outputId": "540ccebb-4266-438c-b596-93568d31c3a5"
      },
      "source": [
        "Transition(24,1,25,1)"
      ],
      "execution_count": null,
      "outputs": [
        {
          "output_type": "execute_result",
          "data": {
            "text/plain": [
              "Transition(state=24, action=1, next_state=25, reward=1)"
            ]
          },
          "metadata": {
            "tags": []
          },
          "execution_count": 163
        }
      ]
    },
    {
      "cell_type": "code",
      "metadata": {
        "id": "W19xsUy1oJtR",
        "colab_type": "code",
        "colab": {}
      },
      "source": [
        "class ReplayMemory(object):\n",
        "    def __init__(self, capacity):\n",
        "        self.capacity = capacity # 允许存储多少状态\n",
        "        self.memory = [] # 存入的状态 \n",
        "        self.position = 0 # memory的list的下标\n",
        "\n",
        "    def push(self, *args):\n",
        "        \"\"\"Saves a transition.\"\"\"\n",
        "        if len(self.memory) < self.capacity:\n",
        "            self.memory.append(None)\n",
        "        self.memory[self.position] = Transition(*args)\n",
        "        self.position = (self.position + 1) % self.capacity\n",
        "\n",
        "    def sample(self, batch_size):\n",
        "        return random.sample(self.memory, batch_size)\n",
        "\n",
        "    def __len__(self):\n",
        "        return len(self.memory)"
      ],
      "execution_count": null,
      "outputs": []
    },
    {
      "cell_type": "code",
      "metadata": {
        "id": "Ns9xdpDXB9vH",
        "colab_type": "code",
        "colab": {
          "base_uri": "https://localhost:8080/",
          "height": 197
        },
        "outputId": "206eaad7-9ee8-43fb-cd29-b0e0bf401b11"
      },
      "source": [
        "test = ReplayMemory(5)\n",
        "test.push(get_screen(1), 2.0, get_screen(3), 4.0)\n",
        "test.push(get_screen(2), 6.0, get_screen(4), 8.0)\n",
        "test.sample(2)"
      ],
      "execution_count": null,
      "outputs": [
        {
          "output_type": "execute_result",
          "data": {
            "text/plain": [
              "[Transition(state=tensor([[0., 0., 1., 0., 0., 0., 0., 0., 0., 0., 0., 0., 0., 0., 0., 0., 0., 0.,\n",
              "         0., 0., 0., 0., 0., 0., 0., 0., 0., 0., 0., 0., 0., 0., 0., 0., 0., 0.,\n",
              "         0., 0., 0., 0., 0., 0., 0., 0., 0., 0., 0., 0.]]), action=6.0, next_state=tensor([[0., 0., 0., 0., 1., 0., 0., 0., 0., 0., 0., 0., 0., 0., 0., 0., 0., 0.,\n",
              "         0., 0., 0., 0., 0., 0., 0., 0., 0., 0., 0., 0., 0., 0., 0., 0., 0., 0.,\n",
              "         0., 0., 0., 0., 0., 0., 0., 0., 0., 0., 0., 0.]]), reward=8.0),\n",
              " Transition(state=tensor([[0., 1., 0., 0., 0., 0., 0., 0., 0., 0., 0., 0., 0., 0., 0., 0., 0., 0.,\n",
              "         0., 0., 0., 0., 0., 0., 0., 0., 0., 0., 0., 0., 0., 0., 0., 0., 0., 0.,\n",
              "         0., 0., 0., 0., 0., 0., 0., 0., 0., 0., 0., 0.]]), action=2.0, next_state=tensor([[0., 0., 0., 1., 0., 0., 0., 0., 0., 0., 0., 0., 0., 0., 0., 0., 0., 0.,\n",
              "         0., 0., 0., 0., 0., 0., 0., 0., 0., 0., 0., 0., 0., 0., 0., 0., 0., 0.,\n",
              "         0., 0., 0., 0., 0., 0., 0., 0., 0., 0., 0., 0.]]), reward=4.0)]"
            ]
          },
          "metadata": {
            "tags": []
          },
          "execution_count": 165
        }
      ]
    },
    {
      "cell_type": "markdown",
      "metadata": {
        "id": "LOPGreAiv49p",
        "colab_type": "text"
      },
      "source": [
        "### Input Extraction\n",
        "\n",
        "这一部分是将环境返回的state, 转换为one-hot格式, 并作为网络的输入."
      ]
    },
    {
      "cell_type": "code",
      "metadata": {
        "id": "U0V6utxIv4rT",
        "colab_type": "code",
        "colab": {}
      },
      "source": [
        "def get_screen(state):\n",
        "    \"\"\"这里我们就用state来作为例子, 不直接使用截图了\n",
        "    \"\"\"\n",
        "    y_state = torch.Tensor([[state]]).long()\n",
        "    y_onehot = torch.FloatTensor(1, 48) # 产生位置\n",
        "\n",
        "    # In your for loop\n",
        "    y_onehot.zero_() # 全部使用0进行填充\n",
        "    y_onehot.scatter_(1, y_state, 1) # 返回one-hot\n",
        "\n",
        "    return y_onehot"
      ],
      "execution_count": null,
      "outputs": []
    },
    {
      "cell_type": "code",
      "metadata": {
        "id": "nOb8ptR00okX",
        "colab_type": "code",
        "colab": {
          "base_uri": "https://localhost:8080/",
          "height": 89
        },
        "outputId": "d99be42f-fd27-470a-c76a-1aeab7067518"
      },
      "source": [
        "print(get_screen(1).shape)\n",
        "get_screen(1)"
      ],
      "execution_count": null,
      "outputs": [
        {
          "output_type": "stream",
          "text": [
            "torch.Size([1, 48])\n"
          ],
          "name": "stdout"
        },
        {
          "output_type": "execute_result",
          "data": {
            "text/plain": [
              "tensor([[0., 1., 0., 0., 0., 0., 0., 0., 0., 0., 0., 0., 0., 0., 0., 0., 0., 0.,\n",
              "         0., 0., 0., 0., 0., 0., 0., 0., 0., 0., 0., 0., 0., 0., 0., 0., 0., 0.,\n",
              "         0., 0., 0., 0., 0., 0., 0., 0., 0., 0., 0., 0.]])"
            ]
          },
          "metadata": {
            "tags": []
          },
          "execution_count": 168
        }
      ]
    },
    {
      "cell_type": "markdown",
      "metadata": {
        "id": "4CjGbk49o0nO",
        "colab_type": "text"
      },
      "source": [
        "### Q Network的定义\n",
        "\n",
        "Our model will be a linear network that takes in the one-hot code (这里网络的输入是将state转换为one-hot的编码). \n",
        "\n",
        "It has four outputs, representing Q(s,left), Q(s,right), Q(s,down), Q(s,up) (where s is the input to the network). \n",
        "\n",
        "In effect, the network is trying to predict the expected return of taking each action given the current input. (在当前输入下, 各个方向动作的概率值)"
      ]
    },
    {
      "cell_type": "code",
      "metadata": {
        "id": "cqR11c_6oznE",
        "colab_type": "code",
        "colab": {}
      },
      "source": [
        "class DQN(nn.Module):\n",
        "\n",
        "    def __init__(self):\n",
        "        super(DQN, self).__init__()\n",
        "        self.l1 = nn.Linear(48, 24)\n",
        "        self.l2 = nn.Linear(24, 12)\n",
        "        self.l3 = nn.Linear(12, 4)\n",
        "\n",
        "    def forward(self, x):\n",
        "        x = F.relu(self.l1(x))\n",
        "        x = F.relu(self.l2(x))\n",
        "        x = self.l3(x)\n",
        "        return x # Returns tensor([[left0exp,right0exp,down0exp,down0exp]...])."
      ],
      "execution_count": null,
      "outputs": []
    },
    {
      "cell_type": "code",
      "metadata": {
        "id": "ceyARDDD_rov",
        "colab_type": "code",
        "colab": {
          "base_uri": "https://localhost:8080/",
          "height": 35
        },
        "outputId": "64c3a333-5e87-481f-e71f-1570aee03ad0"
      },
      "source": [
        "model = DQN()\n",
        "model(get_screen(1)) # 返回的4个action的值的大小"
      ],
      "execution_count": null,
      "outputs": [
        {
          "output_type": "execute_result",
          "data": {
            "text/plain": [
              "tensor([[-0.0524,  0.0964,  0.1775,  0.1297]], grad_fn=<AddmmBackward>)"
            ]
          },
          "metadata": {
            "tags": []
          },
          "execution_count": 215
        }
      ]
    },
    {
      "cell_type": "markdown",
      "metadata": {
        "id": "OScZge5N5kFN",
        "colab_type": "text"
      },
      "source": [
        "### 选择动作函数"
      ]
    },
    {
      "cell_type": "code",
      "metadata": {
        "id": "1_EPci9k5qI6",
        "colab_type": "code",
        "colab": {}
      },
      "source": [
        "def select_action(state, model, nA):\n",
        "    \"\"\"这里是包含探索的\n",
        "    \"\"\"\n",
        "    global steps_done\n",
        "    EPS_START = 0.9 # 初始的探索率\n",
        "    EPS_END = 0.05 # 最终的探索了\n",
        "    EPS_DECAY = 300 #进行200步骤, 到最终的探索率\n",
        "\n",
        "    sample = random.random()\n",
        "    eps_threshold = EPS_END + (EPS_START - EPS_END) * math.exp(-1. * steps_done / EPS_DECAY) # 计算实时探索率\n",
        "    steps_done += 1\n",
        "    if sample > eps_threshold:\n",
        "        with torch.no_grad():\n",
        "            return model(state).max(1)[1].view(1, 1) # 返回的最大动作的indice\n",
        "    else:\n",
        "        return torch.tensor([[random.randrange(nA)]], device=device, dtype=torch.long) # 随机选一个动作"
      ],
      "execution_count": null,
      "outputs": []
    },
    {
      "cell_type": "code",
      "metadata": {
        "id": "SSzGQ2R5f3xe",
        "colab_type": "code",
        "colab": {
          "base_uri": "https://localhost:8080/",
          "height": 35
        },
        "outputId": "db4a6964-50af-4d08-faca-366be4d6d3ae"
      },
      "source": [
        "steps_done = 0\n",
        "select_action(get_screen(1), model, 4).detach().item()"
      ],
      "execution_count": null,
      "outputs": [
        {
          "output_type": "execute_result",
          "data": {
            "text/plain": [
              "2"
            ]
          },
          "metadata": {
            "tags": []
          },
          "execution_count": 217
        }
      ]
    },
    {
      "cell_type": "markdown",
      "metadata": {
        "id": "TFTUDEWI3mYx",
        "colab_type": "text"
      },
      "source": [
        "### 开始训练"
      ]
    },
    {
      "cell_type": "code",
      "metadata": {
        "id": "_BK2VgdVvrAj",
        "colab_type": "code",
        "colab": {}
      },
      "source": [
        "def QNetwork(env, num_episodes, policy_net, target_net, memory, discount_factor=1.0):\n",
        "    TARGET_UPDATE = 10 # target网络的更新论数\n",
        "    BATCH_SIZE = 256\n",
        "    # 环境中所有动作的数量\n",
        "    nA = env.action_space.n # 环境的动作个数\n",
        "    \n",
        "    # 记录reward和总长度的变化\n",
        "    stats = plotting.EpisodeStats(\n",
        "        episode_lengths=np.zeros(num_episodes+1),\n",
        "        episode_rewards=np.zeros(num_episodes+1)) \n",
        "    \n",
        "\n",
        "    for i_episode in range(1, num_episodes+1):\n",
        "        # 开始一轮游戏\n",
        "        state = env.reset()\n",
        "        state=get_screen(state) # 将state转换为oen-hot的tensor, 用作网络的输入.\n",
        "        action = select_action(state, model=policy_net, nA=nA)\n",
        "        for t in itertools.count():\n",
        "            next_state, reward, done, _ = env.step(action.detach().item()) # 执行action, 返回reward和下一步的状态\n",
        "            if done:\n",
        "                reward = 100\n",
        "            reward = torch.tensor([reward], device=device) # 转为tensor\n",
        "            next_state_tensor = get_screen(next_state) # 转为tensor\n",
        "            next_action = select_action(state=next_state_tensor, model=policy_net, nA=nA) # 选择下一步的动作\n",
        "\n",
        "            # 计算统计数据(带有探索的策略)\n",
        "            stats.episode_rewards[i_episode] += reward # 计算累计奖励\n",
        "            stats.episode_lengths[i_episode] = t # 查看每一轮的时间\n",
        "\n",
        "            if done:\n",
        "                next_state_tensor = None\n",
        "                # 这里不能直接break, 需要进行push和状态更新\n",
        "            else:\n",
        "                pass\n",
        "\n",
        "            # 将信息存入memory\n",
        "            memory.push(state, action, next_state_tensor, reward)\n",
        "\n",
        "            # 状态更新\n",
        "            state = next_state_tensor\n",
        "            action = next_action\n",
        "\n",
        "            # 模型更新\n",
        "            if len(memory) > BATCH_SIZE: # 首先确保memory里足够sample\n",
        "                transitions = memory.sample(BATCH_SIZE)\n",
        "                batch = Transition(*zip(*transitions)) # 转换为如下效果, Transition(state=(5, 1), action=(6, 2), next_state=(7, 3), reward=(8, 4))\n",
        "                non_final_mask = torch.tensor(tuple(map(lambda s: s is not None, batch.next_state)), device=device, dtype=torch.bool) # 确认哪些不是终点\n",
        "                non_final_next_states = torch.cat([s for s in batch.next_state if s is not None]) # 将不是None的next_state连起来\n",
        "\n",
        "                # 下面是将几个变量都转换为batch的类型\n",
        "                state_batch = torch.cat(batch.state)\n",
        "                action_batch = torch.cat(batch.action)\n",
        "                reward_batch = torch.cat(batch.reward)\n",
        "\n",
        "                state_action_values = policy_net(state_batch).gather(1, action_batch) # Q(s,a)的值\n",
        "\n",
        "                next_state_values = torch.zeros(BATCH_SIZE, device=device)\n",
        "                next_state_values[non_final_mask] = target_net(non_final_next_states).max(1)[0].detach()\n",
        "                \n",
        "                # Compute the expected Q values\n",
        "                expected_state_action_values = (next_state_values * discount_factor) + reward_batch\n",
        "\n",
        "                # Compute Huber loss\n",
        "                loss = F.smooth_l1_loss(state_action_values, expected_state_action_values.unsqueeze(1))\n",
        "\n",
        "                # Optimize the model\n",
        "                optimizer.zero_grad()\n",
        "                loss.backward()\n",
        "                # for param in policy_net.parameters():\n",
        "                #     param.grad.data.clamp_(-1, 1)\n",
        "                optimizer.step()\n",
        "\n",
        "            if done:\n",
        "                break\n",
        "            if t > 500:\n",
        "                break\n",
        "\n",
        "        if i_episode % TARGET_UPDATE == 0:\n",
        "            # target net更新参数\n",
        "            target_net.load_state_dict(policy_net.state_dict())\n",
        "        \n",
        "        if i_episode % 50 == 0:\n",
        "            print(\"\\rEpisode {}/{}. | \".format(i_episode, num_episodes), end=\"\")\n",
        "\n",
        "    return stats"
      ],
      "execution_count": null,
      "outputs": []
    },
    {
      "cell_type": "markdown",
      "metadata": {
        "id": "PN48yWJy7uxt",
        "colab_type": "text"
      },
      "source": [
        "### 开始运行"
      ]
    },
    {
      "cell_type": "code",
      "metadata": {
        "id": "8uO3j9tS7wHi",
        "colab_type": "code",
        "colab": {
          "base_uri": "https://localhost:8080/",
          "height": 35
        },
        "outputId": "d3e9bc81-5d0c-4ec4-90d3-af4b7f3a9ba3"
      },
      "source": [
        "env = CliffWalkingEnv() # 初始化环境\n",
        "\n",
        "policy_net = DQN().to(device)\n",
        "target_net = DQN().to(device)\n",
        "target_net.load_state_dict(policy_net.state_dict())\n",
        "target_net.eval()\n",
        "\n",
        "optimizer = optim.Adam(policy_net.parameters(), 0.002)\n",
        "memory = ReplayMemory(500)\n",
        "\n",
        "steps_done = 0\n",
        "\n",
        "stats = QNetwork(env, 2000, policy_net, target_net, memory, discount_factor=0.9)"
      ],
      "execution_count": null,
      "outputs": [
        {
          "output_type": "stream",
          "text": [
            "Episode 2000/2000. | "
          ],
          "name": "stdout"
        }
      ]
    },
    {
      "cell_type": "code",
      "metadata": {
        "id": "xUq7W4rFhefR",
        "colab_type": "code",
        "colab": {
          "base_uri": "https://localhost:8080/",
          "height": 1000
        },
        "outputId": "30519b61-14b2-4e61-ac8f-0c7da3a89df5"
      },
      "source": [
        "plotting.plot_episode_stats(stats)"
      ],
      "execution_count": null,
      "outputs": [
        {
          "output_type": "display_data",
          "data": {
            "image/png": "[encoded data removed]",
            "text/plain": [
              "<Figure size 720x360 with 1 Axes>"
            ]
          },
          "metadata": {
            "tags": [],
            "needs_background": "light"
          }
        },
        {
          "output_type": "display_data",
          "data": {
            "image/png": "[encoded data removed]",
            "text/plain": [
              "<Figure size 720x360 with 1 Axes>"
            ]
          },
          "metadata": {
            "tags": [],
            "needs_background": "light"
          }
        },
        {
          "output_type": "display_data",
          "data": {
            "image/png": "[encoded data removed]",
            "text/plain": [
              "<Figure size 720x360 with 1 Axes>"
            ]
          },
          "metadata": {
            "tags": [],
            "needs_background": "light"
          }
        },
        {
          "output_type": "execute_result",
          "data": {
            "text/plain": [
              "(<Figure size 720x360 with 1 Axes>,\n",
              " <Figure size 720x360 with 1 Axes>,\n",
              " <Figure size 720x360 with 1 Axes>)"
            ]
          },
          "metadata": {
            "tags": []
          },
          "execution_count": 237
        }
      ]
    },
    {
      "cell_type": "markdown",
      "metadata": {
        "id": "4jIPGO-YrNHQ",
        "colab_type": "text"
      },
      "source": [
        "### 单步测试"
      ]
    },
    {
      "cell_type": "code",
      "metadata": {
        "id": "MQO9VRDKk0sO",
        "colab_type": "code",
        "colab": {
          "base_uri": "https://localhost:8080/",
          "height": 415
        },
        "outputId": "98a8b983-b9f4-4fb4-af94-4afed6776d5b"
      },
      "source": [
        "transitions = memory.sample(5)\n",
        "batch = Transition(*zip(*transitions)) # 转换为如下效果, Transition(state=(5, 1), action=(6, 2), next_state=(7, 3), reward=(8, 4))\n",
        "batch"
      ],
      "execution_count": null,
      "outputs": [
        {
          "output_type": "execute_result",
          "data": {
            "text/plain": [
              "Transition(state=(tensor([[0., 1., 0., 0., 0., 0., 0., 0., 0., 0., 0., 0., 0., 0., 0., 0., 0., 0.,\n",
              "         0., 0., 0., 0., 0., 0., 0., 0., 0., 0., 0., 0., 0., 0., 0., 0., 0., 0.,\n",
              "         0., 0., 0., 0., 0., 0., 0., 0., 0., 0., 0., 0.]]), tensor([[0., 0., 0., 0., 0., 0., 0., 0., 0., 0., 0., 0., 0., 0., 0., 0., 0., 0.,\n",
              "         0., 0., 0., 0., 0., 0., 0., 0., 0., 0., 0., 0., 0., 0., 0., 0., 0., 0.,\n",
              "         1., 0., 0., 0., 0., 0., 0., 0., 0., 0., 0., 0.]]), tensor([[0., 0., 0., 0., 0., 0., 0., 0., 0., 0., 0., 0., 0., 0., 0., 0., 0., 0.,\n",
              "         0., 0., 0., 0., 0., 0., 0., 0., 0., 0., 0., 0., 0., 0., 0., 0., 0., 0.,\n",
              "         1., 0., 0., 0., 0., 0., 0., 0., 0., 0., 0., 0.]]), tensor([[1., 0., 0., 0., 0., 0., 0., 0., 0., 0., 0., 0., 0., 0., 0., 0., 0., 0.,\n",
              "         0., 0., 0., 0., 0., 0., 0., 0., 0., 0., 0., 0., 0., 0., 0., 0., 0., 0.,\n",
              "         0., 0., 0., 0., 0., 0., 0., 0., 0., 0., 0., 0.]]), tensor([[0., 0., 0., 0., 0., 0., 0., 0., 0., 0., 0., 0., 0., 0., 0., 0., 0., 0.,\n",
              "         0., 0., 0., 0., 0., 0., 0., 0., 0., 0., 0., 0., 0., 0., 0., 0., 0., 0.,\n",
              "         1., 0., 0., 0., 0., 0., 0., 0., 0., 0., 0., 0.]])), action=(tensor([[0]]), tensor([[2]]), tensor([[2]]), tensor([[1]]), tensor([[3]])), next_state=(tensor([[0., 1., 0., 0., 0., 0., 0., 0., 0., 0., 0., 0., 0., 0., 0., 0., 0., 0.,\n",
              "         0., 0., 0., 0., 0., 0., 0., 0., 0., 0., 0., 0., 0., 0., 0., 0., 0., 0.,\n",
              "         0., 0., 0., 0., 0., 0., 0., 0., 0., 0., 0., 0.]]), tensor([[0., 0., 0., 0., 0., 0., 0., 0., 0., 0., 0., 0., 0., 0., 0., 0., 0., 0.,\n",
              "         0., 0., 0., 0., 0., 0., 0., 0., 0., 0., 0., 0., 0., 0., 0., 0., 0., 0.,\n",
              "         1., 0., 0., 0., 0., 0., 0., 0., 0., 0., 0., 0.]]), tensor([[0., 0., 0., 0., 0., 0., 0., 0., 0., 0., 0., 0., 0., 0., 0., 0., 0., 0.,\n",
              "         0., 0., 0., 0., 0., 0., 0., 0., 0., 0., 0., 0., 0., 0., 0., 0., 0., 0.,\n",
              "         1., 0., 0., 0., 0., 0., 0., 0., 0., 0., 0., 0.]]), tensor([[0., 1., 0., 0., 0., 0., 0., 0., 0., 0., 0., 0., 0., 0., 0., 0., 0., 0.,\n",
              "         0., 0., 0., 0., 0., 0., 0., 0., 0., 0., 0., 0., 0., 0., 0., 0., 0., 0.,\n",
              "         0., 0., 0., 0., 0., 0., 0., 0., 0., 0., 0., 0.]]), tensor([[0., 0., 0., 0., 0., 0., 0., 0., 0., 0., 0., 0., 0., 0., 0., 0., 0., 0.,\n",
              "         0., 0., 0., 0., 0., 0., 0., 0., 0., 0., 0., 0., 0., 0., 0., 0., 0., 0.,\n",
              "         1., 0., 0., 0., 0., 0., 0., 0., 0., 0., 0., 0.]])), reward=(tensor([-1]), tensor([-1]), tensor([-1]), tensor([-1]), tensor([-1])))"
            ]
          },
          "metadata": {
            "tags": []
          },
          "execution_count": 176
        }
      ]
    },
    {
      "cell_type": "code",
      "metadata": {
        "id": "7mmO6Uhfqk-h",
        "colab_type": "code",
        "colab": {}
      },
      "source": [
        "non_final_mask = torch.tensor(tuple(map(lambda s: s is not None, batch.next_state)), device=device, dtype=torch.bool) # 确认哪些不是终点\n",
        "non_final_next_states = torch.cat([s for s in batch.next_state if s is not None]) # 将不是None的next_state连起来\n",
        "\n",
        "state_batch = torch.cat(batch.state)\n",
        "action_batch = torch.cat(batch.action)\n",
        "reward_batch = torch.cat(batch.reward)"
      ],
      "execution_count": null,
      "outputs": []
    },
    {
      "cell_type": "code",
      "metadata": {
        "id": "IuNIVIuIreIV",
        "colab_type": "code",
        "colab": {
          "base_uri": "https://localhost:8080/",
          "height": 107
        },
        "outputId": "9b40118d-644c-4063-f760-fd5022f44518"
      },
      "source": [
        "action_batch"
      ],
      "execution_count": null,
      "outputs": [
        {
          "output_type": "execute_result",
          "data": {
            "text/plain": [
              "tensor([[0],\n",
              "        [2],\n",
              "        [2],\n",
              "        [1],\n",
              "        [3]])"
            ]
          },
          "metadata": {
            "tags": []
          },
          "execution_count": 179
        }
      ]
    },
    {
      "cell_type": "code",
      "metadata": {
        "id": "VsGaIv93rUH_",
        "colab_type": "code",
        "colab": {
          "base_uri": "https://localhost:8080/",
          "height": 35
        },
        "outputId": "c675d50e-3e9f-4312-c21c-5f7c2d9d504c"
      },
      "source": [
        "reward_batch"
      ],
      "execution_count": null,
      "outputs": [
        {
          "output_type": "execute_result",
          "data": {
            "text/plain": [
              "tensor([-1, -1, -1, -1, -1])"
            ]
          },
          "metadata": {
            "tags": []
          },
          "execution_count": 178
        }
      ]
    },
    {
      "cell_type": "code",
      "metadata": {
        "id": "anDLRS5crSDj",
        "colab_type": "code",
        "colab": {}
      },
      "source": [
        "state_action_values = policy_net(state_batch).gather(1, action_batch) # Q(s,a)的值\n",
        "\n",
        "next_state_values = torch.zeros(5, device=device)\n",
        "next_state_values[non_final_mask] = target_net(non_final_next_states).max(1)[0].detach()\n",
        "\n",
        "# Compute the expected Q values\n",
        "expected_state_action_values = (next_state_values * 0.9) + reward_batch"
      ],
      "execution_count": null,
      "outputs": []
    },
    {
      "cell_type": "code",
      "metadata": {
        "id": "pvtD9yiRy5vg",
        "colab_type": "code",
        "colab": {
          "base_uri": "https://localhost:8080/",
          "height": 107
        },
        "outputId": "858f317b-2e3b-4589-d54d-6d0af037f137"
      },
      "source": [
        "state_action_values"
      ],
      "execution_count": null,
      "outputs": [
        {
          "output_type": "execute_result",
          "data": {
            "text/plain": [
              "tensor([[11.1293],\n",
              "        [17.8900],\n",
              "        [17.8900],\n",
              "        [21.9252],\n",
              "        [17.7576]], grad_fn=<GatherBackward>)"
            ]
          },
          "metadata": {
            "tags": []
          },
          "execution_count": 232
        }
      ]
    },
    {
      "cell_type": "code",
      "metadata": {
        "id": "YErn549ysRe1",
        "colab_type": "code",
        "colab": {
          "base_uri": "https://localhost:8080/",
          "height": 35
        },
        "outputId": "c7c47d31-ef1d-42cc-f8bb-90cb010421d8"
      },
      "source": [
        "next_state_values"
      ],
      "execution_count": null,
      "outputs": [
        {
          "output_type": "execute_result",
          "data": {
            "text/plain": [
              "tensor([21.1504, 21.0128, 21.0128, 21.1504, 21.0128])"
            ]
          },
          "metadata": {
            "tags": []
          },
          "execution_count": 233
        }
      ]
    },
    {
      "cell_type": "code",
      "metadata": {
        "id": "Dc5oZzMNr0-u",
        "colab_type": "code",
        "colab": {
          "base_uri": "https://localhost:8080/",
          "height": 35
        },
        "outputId": "5281286a-4200-4838-dcfa-2308c826f242"
      },
      "source": [
        "expected_state_action_values"
      ],
      "execution_count": null,
      "outputs": [
        {
          "output_type": "execute_result",
          "data": {
            "text/plain": [
              "tensor([-9.0301, -8.9794, -8.9794, -9.0301, -8.9794])"
            ]
          },
          "metadata": {
            "tags": []
          },
          "execution_count": 225
        }
      ]
    },
    {
      "cell_type": "code",
      "metadata": {
        "id": "qAaxc1_er-0B",
        "colab_type": "code",
        "colab": {
          "base_uri": "https://localhost:8080/",
          "height": 107
        },
        "outputId": "b50eda9b-28e0-420f-e416-17f8142c54eb"
      },
      "source": [
        "expected_state_action_values.unsqueeze(1)"
      ],
      "execution_count": null,
      "outputs": [
        {
          "output_type": "execute_result",
          "data": {
            "text/plain": [
              "tensor([[-9.0301],\n",
              "        [-8.9794],\n",
              "        [-8.9794],\n",
              "        [-9.0301],\n",
              "        [-8.9794]])"
            ]
          },
          "metadata": {
            "tags": []
          },
          "execution_count": 221
        }
      ]
    },
    {
      "cell_type": "code",
      "metadata": {
        "id": "zuoej2g5xPJE",
        "colab_type": "code",
        "colab": {
          "base_uri": "https://localhost:8080/",
          "height": 35
        },
        "outputId": "1372bf28-3275-4a6e-ac22-c870c7b0b856"
      },
      "source": [
        "F.smooth_l1_loss(state_action_values, expected_state_action_values.unsqueeze(1))"
      ],
      "execution_count": null,
      "outputs": [
        {
          "output_type": "execute_result",
          "data": {
            "text/plain": [
              "tensor(0.0020, grad_fn=<SmoothL1LossBackward>)"
            ]
          },
          "metadata": {
            "tags": []
          },
          "execution_count": 222
        }
      ]
    },
    {
      "cell_type": "code",
      "metadata": {
        "id": "OvPrduNLyTXW",
        "colab_type": "code",
        "colab": {
          "base_uri": "https://localhost:8080/",
          "height": 35
        },
        "outputId": "c152b7a0-32ab-401d-cafd-69b3335650f6"
      },
      "source": [
        "F.smooth_l1_loss(state_action_values, expected_state_action_values.unsqueeze(1))"
      ],
      "execution_count": null,
      "outputs": [
        {
          "output_type": "execute_result",
          "data": {
            "text/plain": [
              "tensor(0.0020, grad_fn=<SmoothL1LossBackward>)"
            ]
          },
          "metadata": {
            "tags": []
          },
          "execution_count": 227
        }
      ]
    },
    {
      "cell_type": "code",
      "metadata": {
        "id": "NXxaiEYkytuY",
        "colab_type": "code",
        "colab": {}
      },
      "source": [
        ""
      ],
      "execution_count": null,
      "outputs": []
    }
  ]
}